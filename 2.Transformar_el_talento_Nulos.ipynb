{
 "cells": [
  {
   "cell_type": "code",
   "execution_count": 1,
   "id": "3448d1fe",
   "metadata": {},
   "outputs": [],
   "source": [
    "import pandas as pd\n",
    "import numpy as np\n",
    "import re\n",
    "from word2number import w2n\n",
    "from sklearn.impute import SimpleImputer\n",
    "from sklearn.experimental import enable_iterative_imputer\n",
    "from sklearn.impute import IterativeImputer\n",
    "from sklearn.impute import KNNImputer\n",
    "# Librerías de visualización\n",
    "# -----------------------------------------------------------------------\n",
    "import seaborn as sns\n",
    "import matplotlib.pyplot as plt"
   ]
  },
  {
   "cell_type": "code",
   "execution_count": 43,
   "id": "491978b1",
   "metadata": {},
   "outputs": [],
   "source": [
    "pd.set_option('display.max_columns', None)\n",
    "pd.set_option('display.max_rows', None)"
   ]
  },
  {
   "cell_type": "code",
   "execution_count": 44,
   "id": "68d11a7e",
   "metadata": {},
   "outputs": [],
   "source": [
    "#Abrir el pd limpio\n",
    "df = pd.read_csv('2_HR_DATA_clean.csv', index_col = 0)"
   ]
  },
  {
   "cell_type": "code",
   "execution_count": 45,
   "id": "ffcf4b8b",
   "metadata": {},
   "outputs": [
    {
     "data": {
      "application/vnd.microsoft.datawrangler.viewer.v0+json": {
       "columns": [
        {
         "name": "index",
         "rawType": "int64",
         "type": "integer"
        },
        {
         "name": "age",
         "rawType": "int64",
         "type": "integer"
        },
        {
         "name": "attrition",
         "rawType": "object",
         "type": "string"
        },
        {
         "name": "business_travel",
         "rawType": "object",
         "type": "string"
        },
        {
         "name": "distance_from_home",
         "rawType": "int64",
         "type": "integer"
        },
        {
         "name": "education",
         "rawType": "int64",
         "type": "integer"
        },
        {
         "name": "education_field",
         "rawType": "object",
         "type": "unknown"
        },
        {
         "name": "environment_satisfaction",
         "rawType": "int64",
         "type": "integer"
        },
        {
         "name": "gender",
         "rawType": "object",
         "type": "string"
        },
        {
         "name": "job_involvement",
         "rawType": "int64",
         "type": "integer"
        },
        {
         "name": "job_level",
         "rawType": "int64",
         "type": "integer"
        },
        {
         "name": "job_role",
         "rawType": "object",
         "type": "string"
        },
        {
         "name": "job_satisfaction",
         "rawType": "int64",
         "type": "integer"
        },
        {
         "name": "marital_status",
         "rawType": "object",
         "type": "unknown"
        },
        {
         "name": "monthly_income_$",
         "rawType": "float64",
         "type": "float"
        },
        {
         "name": "num_companies_worked",
         "rawType": "int64",
         "type": "integer"
        },
        {
         "name": "over_time",
         "rawType": "object",
         "type": "unknown"
        },
        {
         "name": "percent_salary_hike",
         "rawType": "int64",
         "type": "integer"
        },
        {
         "name": "performance_rating",
         "rawType": "float64",
         "type": "float"
        },
        {
         "name": "relationship_satisfaction",
         "rawType": "int64",
         "type": "integer"
        },
        {
         "name": "standard_hours",
         "rawType": "object",
         "type": "string"
        },
        {
         "name": "stock_option_level",
         "rawType": "int64",
         "type": "integer"
        },
        {
         "name": "total_working_years",
         "rawType": "float64",
         "type": "float"
        },
        {
         "name": "worklife_balance",
         "rawType": "float64",
         "type": "float"
        },
        {
         "name": "years_at_company",
         "rawType": "int64",
         "type": "integer"
        },
        {
         "name": "years_since_last_promotion",
         "rawType": "int64",
         "type": "integer"
        },
        {
         "name": "years_with_curr_manager",
         "rawType": "int64",
         "type": "integer"
        },
        {
         "name": "remote_work",
         "rawType": "object",
         "type": "string"
        }
       ],
       "ref": "45a12929-0e7b-4a30-b482-e26b1edf60c7",
       "rows": [
        [
         "258",
         "39",
         "no",
         "travel_rarely",
         "15",
         "4",
         "marketing",
         "2",
         "M",
         "3",
         "4",
         " sales executive ",
         "1",
         "single",
         "13341.0",
         "0",
         "No",
         "12",
         "3.0",
         "1",
         "full-time",
         "0",
         "21.0",
         "3.0",
         "20",
         "11",
         "10",
         "no"
        ],
        [
         "1082",
         "32",
         "no",
         "non-travel",
         "5",
         "4",
         null,
         "2",
         "F",
         "4",
         "1",
         " research scientist ",
         "4",
         "married",
         "3312.0",
         "3",
         "No",
         "17",
         "3.0",
         "4",
         "full-time",
         "2",
         "6.0",
         "3.0",
         "3",
         "0",
         "2",
         "yes"
        ],
        [
         "321",
         "46",
         "no",
         "non-travel",
         "18",
         "3",
         "medical",
         "3",
         "F",
         "3",
         "2",
         " manufacturing director ",
         "3",
         null,
         null,
         "2",
         "No",
         "14",
         "3.0",
         "3",
         "full-time",
         "1",
         "19.0",
         "2.0",
         "10",
         "0",
         "8",
         "no"
        ],
        [
         "1483",
         "33",
         "no",
         "non-travel",
         "8",
         "1",
         "life sciences",
         "2",
         "F",
         "2",
         "1",
         " sales representative ",
         "4",
         null,
         null,
         "0",
         null,
         "19",
         "3.0",
         "4",
         "full-time",
         "0",
         null,
         "2.0",
         "2",
         "2",
         "2",
         "no"
        ],
        [
         "172",
         "56",
         "yes",
         "non-travel",
         "7",
         "2",
         "technical degree",
         "4",
         "M",
         "3",
         "1",
         " laboratory technician ",
         "3",
         "married",
         null,
         "8",
         "No",
         "11",
         "3.0",
         "4",
         "part-time",
         "1",
         "14.0",
         "1.0",
         "10",
         "9",
         "8",
         "yes"
        ],
        [
         "1497",
         "45",
         "no",
         "non-travel",
         "7",
         "3",
         "medical",
         "1",
         "F",
         "3",
         "1",
         " research scientist ",
         "3",
         null,
         null,
         "4",
         "Yes",
         "19",
         "3.0",
         "3",
         "full-time",
         "1",
         null,
         null,
         "3",
         "0",
         "2",
         "yes"
        ],
        [
         "519",
         "27",
         "no",
         "non-travel",
         "15",
         "3",
         null,
         "4",
         "F",
         "2",
         "1",
         " research scientist ",
         "1",
         "married",
         "4774.0",
         "0",
         "No",
         "19",
         "3.0",
         "4",
         "full-time",
         "1",
         null,
         null,
         "7",
         "7",
         "3",
         "no"
        ],
        [
         "245",
         "40",
         "no",
         "travel_rarely",
         "7",
         "4",
         null,
         "2",
         "M",
         "3",
         "5",
         " manager ",
         "2",
         null,
         null,
         "1",
         "No",
         "14",
         "3.0",
         "2",
         "full-time",
         "0",
         null,
         "2.0",
         "21",
         "12",
         "8",
         "no"
        ],
        [
         "360",
         "44",
         "no",
         "non-travel",
         "9",
         "2",
         null,
         "2",
         "M",
         "3",
         "1",
         " research scientist ",
         "1",
         null,
         null,
         "1",
         "Yes",
         "13",
         "3.0",
         "4",
         "part-time",
         "0",
         "8.0",
         "3.0",
         "8",
         "7",
         "1",
         "yes"
        ],
        [
         "458",
         "35",
         "yes",
         "non-travel",
         "27",
         "3",
         null,
         "3",
         "M",
         "3",
         "2",
         " sales executive ",
         "4",
         null,
         "5813.0",
         "1",
         null,
         "18",
         "3.0",
         "4",
         "part-time",
         "0",
         null,
         "3.0",
         "10",
         "7",
         "7",
         "no"
        ],
        [
         "624",
         "34",
         "no",
         "non-travel",
         "26",
         "1",
         null,
         "1",
         "F",
         "2",
         "1",
         " research scientist ",
         "3",
         "divorced",
         "2029.0",
         "1",
         "No",
         "20",
         "4.0",
         "3",
         "full-time",
         "3",
         "5.0",
         "3.0",
         "5",
         "0",
         "0",
         "yes"
        ],
        [
         "766",
         "32",
         "no",
         "travel_rarely",
         "19",
         "3",
         null,
         "4",
         "M",
         "1",
         "3",
         " sales executive ",
         "3",
         "married",
         null,
         "3",
         "No",
         "13",
         "3.0",
         "3",
         "full-time",
         "1",
         null,
         "1.0",
         "4",
         "0",
         "2",
         "no"
        ],
        [
         "14",
         "55",
         "no",
         "non-travel",
         "14",
         "4",
         "medical",
         "3",
         "M",
         "4",
         "5",
         " research director ",
         "2",
         "single",
         null,
         "8",
         "No",
         "11",
         "3.0",
         "4",
         "full-time",
         "0",
         null,
         "3.0",
         "24",
         "2",
         "15",
         "yes"
        ],
        [
         "407",
         "44",
         "yes",
         "travel_rarely",
         "15",
         "3",
         "medical",
         "1",
         "F",
         "3",
         "3",
         " healthcare representative ",
         "4",
         "married",
         null,
         "1",
         null,
         "11",
         "3.0",
         "4",
         "part-time",
         "1",
         null,
         "3.0",
         "10",
         "0",
         "5",
         "yes"
        ],
        [
         "712",
         "54",
         "no",
         "non-travel",
         "19",
         "4",
         null,
         "4",
         "F",
         "3",
         "2",
         " manufacturing director ",
         "1",
         "divorced",
         "5485.0",
         "9",
         "Yes",
         "11",
         null,
         "2",
         "full-time",
         "2",
         null,
         "3.0",
         "5",
         "1",
         "4",
         "yes"
        ],
        [
         "904",
         "29",
         "yes",
         "non-travel",
         "25",
         "5",
         "technical degree",
         "3",
         "F",
         "2",
         "1",
         " research scientist ",
         "2",
         "married",
         "2546.0",
         "5",
         "No",
         "16",
         "3.0",
         "2",
         "full-time",
         "0",
         "6.0",
         "4.0",
         "2",
         "1",
         "1",
         "no"
        ],
        [
         "272",
         "34",
         "yes",
         "travel_frequently",
         "7",
         "3",
         null,
         "1",
         "M",
         "1",
         "2",
         " laboratory technician ",
         "3",
         null,
         "6074.0",
         "1",
         "Yes",
         "24",
         "4.0",
         "4",
         "full-time",
         "0",
         "9.0",
         null,
         "9",
         "0",
         "6",
         "yes"
        ],
        [
         "686",
         "53",
         "no",
         "non-travel",
         "3",
         "4",
         null,
         "3",
         "M",
         "3",
         "4",
         " research director ",
         "3",
         "married",
         "17584.0",
         "3",
         "Yes",
         "16",
         "3.0",
         "4",
         "full-time",
         "3",
         "21.0",
         "2.0",
         "5",
         "1",
         "3",
         "yes"
        ],
        [
         "141",
         "34",
         "no",
         "travel_frequently",
         "1",
         "3",
         null,
         "4",
         "M",
         "2",
         "2",
         " healthcare representative ",
         "1",
         "single",
         null,
         "0",
         "No",
         "20",
         "4.0",
         "3",
         "full-time",
         "0",
         "14.0",
         "3.0",
         "13",
         "4",
         "9",
         "yes"
        ],
        [
         "1052",
         "56",
         "no",
         "non-travel",
         "1",
         "2",
         "life sciences",
         "1",
         "F",
         "3",
         "1",
         " research scientist ",
         "1",
         null,
         "2066.0",
         "2",
         null,
         "22",
         "4.0",
         "4",
         "full-time",
         "1",
         "5.0",
         "4.0",
         "3",
         "1",
         "0",
         "yes"
        ]
       ],
       "shape": {
        "columns": 27,
        "rows": 20
       }
      },
      "text/html": [
       "<div>\n",
       "<style scoped>\n",
       "    .dataframe tbody tr th:only-of-type {\n",
       "        vertical-align: middle;\n",
       "    }\n",
       "\n",
       "    .dataframe tbody tr th {\n",
       "        vertical-align: top;\n",
       "    }\n",
       "\n",
       "    .dataframe thead th {\n",
       "        text-align: right;\n",
       "    }\n",
       "</style>\n",
       "<table border=\"1\" class=\"dataframe\">\n",
       "  <thead>\n",
       "    <tr style=\"text-align: right;\">\n",
       "      <th></th>\n",
       "      <th>age</th>\n",
       "      <th>attrition</th>\n",
       "      <th>business_travel</th>\n",
       "      <th>distance_from_home</th>\n",
       "      <th>education</th>\n",
       "      <th>education_field</th>\n",
       "      <th>environment_satisfaction</th>\n",
       "      <th>gender</th>\n",
       "      <th>job_involvement</th>\n",
       "      <th>job_level</th>\n",
       "      <th>job_role</th>\n",
       "      <th>job_satisfaction</th>\n",
       "      <th>marital_status</th>\n",
       "      <th>monthly_income_$</th>\n",
       "      <th>num_companies_worked</th>\n",
       "      <th>over_time</th>\n",
       "      <th>percent_salary_hike</th>\n",
       "      <th>performance_rating</th>\n",
       "      <th>relationship_satisfaction</th>\n",
       "      <th>standard_hours</th>\n",
       "      <th>stock_option_level</th>\n",
       "      <th>total_working_years</th>\n",
       "      <th>worklife_balance</th>\n",
       "      <th>years_at_company</th>\n",
       "      <th>years_since_last_promotion</th>\n",
       "      <th>years_with_curr_manager</th>\n",
       "      <th>remote_work</th>\n",
       "    </tr>\n",
       "  </thead>\n",
       "  <tbody>\n",
       "    <tr>\n",
       "      <th>258</th>\n",
       "      <td>39</td>\n",
       "      <td>no</td>\n",
       "      <td>travel_rarely</td>\n",
       "      <td>15</td>\n",
       "      <td>4</td>\n",
       "      <td>marketing</td>\n",
       "      <td>2</td>\n",
       "      <td>M</td>\n",
       "      <td>3</td>\n",
       "      <td>4</td>\n",
       "      <td>sales executive</td>\n",
       "      <td>1</td>\n",
       "      <td>single</td>\n",
       "      <td>13341.0</td>\n",
       "      <td>0</td>\n",
       "      <td>No</td>\n",
       "      <td>12</td>\n",
       "      <td>3.0</td>\n",
       "      <td>1</td>\n",
       "      <td>full-time</td>\n",
       "      <td>0</td>\n",
       "      <td>21.0</td>\n",
       "      <td>3.0</td>\n",
       "      <td>20</td>\n",
       "      <td>11</td>\n",
       "      <td>10</td>\n",
       "      <td>no</td>\n",
       "    </tr>\n",
       "    <tr>\n",
       "      <th>1082</th>\n",
       "      <td>32</td>\n",
       "      <td>no</td>\n",
       "      <td>non-travel</td>\n",
       "      <td>5</td>\n",
       "      <td>4</td>\n",
       "      <td>NaN</td>\n",
       "      <td>2</td>\n",
       "      <td>F</td>\n",
       "      <td>4</td>\n",
       "      <td>1</td>\n",
       "      <td>research scientist</td>\n",
       "      <td>4</td>\n",
       "      <td>married</td>\n",
       "      <td>3312.0</td>\n",
       "      <td>3</td>\n",
       "      <td>No</td>\n",
       "      <td>17</td>\n",
       "      <td>3.0</td>\n",
       "      <td>4</td>\n",
       "      <td>full-time</td>\n",
       "      <td>2</td>\n",
       "      <td>6.0</td>\n",
       "      <td>3.0</td>\n",
       "      <td>3</td>\n",
       "      <td>0</td>\n",
       "      <td>2</td>\n",
       "      <td>yes</td>\n",
       "    </tr>\n",
       "    <tr>\n",
       "      <th>321</th>\n",
       "      <td>46</td>\n",
       "      <td>no</td>\n",
       "      <td>non-travel</td>\n",
       "      <td>18</td>\n",
       "      <td>3</td>\n",
       "      <td>medical</td>\n",
       "      <td>3</td>\n",
       "      <td>F</td>\n",
       "      <td>3</td>\n",
       "      <td>2</td>\n",
       "      <td>manufacturing director</td>\n",
       "      <td>3</td>\n",
       "      <td>NaN</td>\n",
       "      <td>NaN</td>\n",
       "      <td>2</td>\n",
       "      <td>No</td>\n",
       "      <td>14</td>\n",
       "      <td>3.0</td>\n",
       "      <td>3</td>\n",
       "      <td>full-time</td>\n",
       "      <td>1</td>\n",
       "      <td>19.0</td>\n",
       "      <td>2.0</td>\n",
       "      <td>10</td>\n",
       "      <td>0</td>\n",
       "      <td>8</td>\n",
       "      <td>no</td>\n",
       "    </tr>\n",
       "    <tr>\n",
       "      <th>1483</th>\n",
       "      <td>33</td>\n",
       "      <td>no</td>\n",
       "      <td>non-travel</td>\n",
       "      <td>8</td>\n",
       "      <td>1</td>\n",
       "      <td>life sciences</td>\n",
       "      <td>2</td>\n",
       "      <td>F</td>\n",
       "      <td>2</td>\n",
       "      <td>1</td>\n",
       "      <td>sales representative</td>\n",
       "      <td>4</td>\n",
       "      <td>NaN</td>\n",
       "      <td>NaN</td>\n",
       "      <td>0</td>\n",
       "      <td>NaN</td>\n",
       "      <td>19</td>\n",
       "      <td>3.0</td>\n",
       "      <td>4</td>\n",
       "      <td>full-time</td>\n",
       "      <td>0</td>\n",
       "      <td>NaN</td>\n",
       "      <td>2.0</td>\n",
       "      <td>2</td>\n",
       "      <td>2</td>\n",
       "      <td>2</td>\n",
       "      <td>no</td>\n",
       "    </tr>\n",
       "    <tr>\n",
       "      <th>172</th>\n",
       "      <td>56</td>\n",
       "      <td>yes</td>\n",
       "      <td>non-travel</td>\n",
       "      <td>7</td>\n",
       "      <td>2</td>\n",
       "      <td>technical degree</td>\n",
       "      <td>4</td>\n",
       "      <td>M</td>\n",
       "      <td>3</td>\n",
       "      <td>1</td>\n",
       "      <td>laboratory technician</td>\n",
       "      <td>3</td>\n",
       "      <td>married</td>\n",
       "      <td>NaN</td>\n",
       "      <td>8</td>\n",
       "      <td>No</td>\n",
       "      <td>11</td>\n",
       "      <td>3.0</td>\n",
       "      <td>4</td>\n",
       "      <td>part-time</td>\n",
       "      <td>1</td>\n",
       "      <td>14.0</td>\n",
       "      <td>1.0</td>\n",
       "      <td>10</td>\n",
       "      <td>9</td>\n",
       "      <td>8</td>\n",
       "      <td>yes</td>\n",
       "    </tr>\n",
       "    <tr>\n",
       "      <th>1497</th>\n",
       "      <td>45</td>\n",
       "      <td>no</td>\n",
       "      <td>non-travel</td>\n",
       "      <td>7</td>\n",
       "      <td>3</td>\n",
       "      <td>medical</td>\n",
       "      <td>1</td>\n",
       "      <td>F</td>\n",
       "      <td>3</td>\n",
       "      <td>1</td>\n",
       "      <td>research scientist</td>\n",
       "      <td>3</td>\n",
       "      <td>NaN</td>\n",
       "      <td>NaN</td>\n",
       "      <td>4</td>\n",
       "      <td>Yes</td>\n",
       "      <td>19</td>\n",
       "      <td>3.0</td>\n",
       "      <td>3</td>\n",
       "      <td>full-time</td>\n",
       "      <td>1</td>\n",
       "      <td>NaN</td>\n",
       "      <td>NaN</td>\n",
       "      <td>3</td>\n",
       "      <td>0</td>\n",
       "      <td>2</td>\n",
       "      <td>yes</td>\n",
       "    </tr>\n",
       "    <tr>\n",
       "      <th>519</th>\n",
       "      <td>27</td>\n",
       "      <td>no</td>\n",
       "      <td>non-travel</td>\n",
       "      <td>15</td>\n",
       "      <td>3</td>\n",
       "      <td>NaN</td>\n",
       "      <td>4</td>\n",
       "      <td>F</td>\n",
       "      <td>2</td>\n",
       "      <td>1</td>\n",
       "      <td>research scientist</td>\n",
       "      <td>1</td>\n",
       "      <td>married</td>\n",
       "      <td>4774.0</td>\n",
       "      <td>0</td>\n",
       "      <td>No</td>\n",
       "      <td>19</td>\n",
       "      <td>3.0</td>\n",
       "      <td>4</td>\n",
       "      <td>full-time</td>\n",
       "      <td>1</td>\n",
       "      <td>NaN</td>\n",
       "      <td>NaN</td>\n",
       "      <td>7</td>\n",
       "      <td>7</td>\n",
       "      <td>3</td>\n",
       "      <td>no</td>\n",
       "    </tr>\n",
       "    <tr>\n",
       "      <th>245</th>\n",
       "      <td>40</td>\n",
       "      <td>no</td>\n",
       "      <td>travel_rarely</td>\n",
       "      <td>7</td>\n",
       "      <td>4</td>\n",
       "      <td>NaN</td>\n",
       "      <td>2</td>\n",
       "      <td>M</td>\n",
       "      <td>3</td>\n",
       "      <td>5</td>\n",
       "      <td>manager</td>\n",
       "      <td>2</td>\n",
       "      <td>NaN</td>\n",
       "      <td>NaN</td>\n",
       "      <td>1</td>\n",
       "      <td>No</td>\n",
       "      <td>14</td>\n",
       "      <td>3.0</td>\n",
       "      <td>2</td>\n",
       "      <td>full-time</td>\n",
       "      <td>0</td>\n",
       "      <td>NaN</td>\n",
       "      <td>2.0</td>\n",
       "      <td>21</td>\n",
       "      <td>12</td>\n",
       "      <td>8</td>\n",
       "      <td>no</td>\n",
       "    </tr>\n",
       "    <tr>\n",
       "      <th>360</th>\n",
       "      <td>44</td>\n",
       "      <td>no</td>\n",
       "      <td>non-travel</td>\n",
       "      <td>9</td>\n",
       "      <td>2</td>\n",
       "      <td>NaN</td>\n",
       "      <td>2</td>\n",
       "      <td>M</td>\n",
       "      <td>3</td>\n",
       "      <td>1</td>\n",
       "      <td>research scientist</td>\n",
       "      <td>1</td>\n",
       "      <td>NaN</td>\n",
       "      <td>NaN</td>\n",
       "      <td>1</td>\n",
       "      <td>Yes</td>\n",
       "      <td>13</td>\n",
       "      <td>3.0</td>\n",
       "      <td>4</td>\n",
       "      <td>part-time</td>\n",
       "      <td>0</td>\n",
       "      <td>8.0</td>\n",
       "      <td>3.0</td>\n",
       "      <td>8</td>\n",
       "      <td>7</td>\n",
       "      <td>1</td>\n",
       "      <td>yes</td>\n",
       "    </tr>\n",
       "    <tr>\n",
       "      <th>458</th>\n",
       "      <td>35</td>\n",
       "      <td>yes</td>\n",
       "      <td>non-travel</td>\n",
       "      <td>27</td>\n",
       "      <td>3</td>\n",
       "      <td>NaN</td>\n",
       "      <td>3</td>\n",
       "      <td>M</td>\n",
       "      <td>3</td>\n",
       "      <td>2</td>\n",
       "      <td>sales executive</td>\n",
       "      <td>4</td>\n",
       "      <td>NaN</td>\n",
       "      <td>5813.0</td>\n",
       "      <td>1</td>\n",
       "      <td>NaN</td>\n",
       "      <td>18</td>\n",
       "      <td>3.0</td>\n",
       "      <td>4</td>\n",
       "      <td>part-time</td>\n",
       "      <td>0</td>\n",
       "      <td>NaN</td>\n",
       "      <td>3.0</td>\n",
       "      <td>10</td>\n",
       "      <td>7</td>\n",
       "      <td>7</td>\n",
       "      <td>no</td>\n",
       "    </tr>\n",
       "    <tr>\n",
       "      <th>624</th>\n",
       "      <td>34</td>\n",
       "      <td>no</td>\n",
       "      <td>non-travel</td>\n",
       "      <td>26</td>\n",
       "      <td>1</td>\n",
       "      <td>NaN</td>\n",
       "      <td>1</td>\n",
       "      <td>F</td>\n",
       "      <td>2</td>\n",
       "      <td>1</td>\n",
       "      <td>research scientist</td>\n",
       "      <td>3</td>\n",
       "      <td>divorced</td>\n",
       "      <td>2029.0</td>\n",
       "      <td>1</td>\n",
       "      <td>No</td>\n",
       "      <td>20</td>\n",
       "      <td>4.0</td>\n",
       "      <td>3</td>\n",
       "      <td>full-time</td>\n",
       "      <td>3</td>\n",
       "      <td>5.0</td>\n",
       "      <td>3.0</td>\n",
       "      <td>5</td>\n",
       "      <td>0</td>\n",
       "      <td>0</td>\n",
       "      <td>yes</td>\n",
       "    </tr>\n",
       "    <tr>\n",
       "      <th>766</th>\n",
       "      <td>32</td>\n",
       "      <td>no</td>\n",
       "      <td>travel_rarely</td>\n",
       "      <td>19</td>\n",
       "      <td>3</td>\n",
       "      <td>NaN</td>\n",
       "      <td>4</td>\n",
       "      <td>M</td>\n",
       "      <td>1</td>\n",
       "      <td>3</td>\n",
       "      <td>sales executive</td>\n",
       "      <td>3</td>\n",
       "      <td>married</td>\n",
       "      <td>NaN</td>\n",
       "      <td>3</td>\n",
       "      <td>No</td>\n",
       "      <td>13</td>\n",
       "      <td>3.0</td>\n",
       "      <td>3</td>\n",
       "      <td>full-time</td>\n",
       "      <td>1</td>\n",
       "      <td>NaN</td>\n",
       "      <td>1.0</td>\n",
       "      <td>4</td>\n",
       "      <td>0</td>\n",
       "      <td>2</td>\n",
       "      <td>no</td>\n",
       "    </tr>\n",
       "    <tr>\n",
       "      <th>14</th>\n",
       "      <td>55</td>\n",
       "      <td>no</td>\n",
       "      <td>non-travel</td>\n",
       "      <td>14</td>\n",
       "      <td>4</td>\n",
       "      <td>medical</td>\n",
       "      <td>3</td>\n",
       "      <td>M</td>\n",
       "      <td>4</td>\n",
       "      <td>5</td>\n",
       "      <td>research director</td>\n",
       "      <td>2</td>\n",
       "      <td>single</td>\n",
       "      <td>NaN</td>\n",
       "      <td>8</td>\n",
       "      <td>No</td>\n",
       "      <td>11</td>\n",
       "      <td>3.0</td>\n",
       "      <td>4</td>\n",
       "      <td>full-time</td>\n",
       "      <td>0</td>\n",
       "      <td>NaN</td>\n",
       "      <td>3.0</td>\n",
       "      <td>24</td>\n",
       "      <td>2</td>\n",
       "      <td>15</td>\n",
       "      <td>yes</td>\n",
       "    </tr>\n",
       "    <tr>\n",
       "      <th>407</th>\n",
       "      <td>44</td>\n",
       "      <td>yes</td>\n",
       "      <td>travel_rarely</td>\n",
       "      <td>15</td>\n",
       "      <td>3</td>\n",
       "      <td>medical</td>\n",
       "      <td>1</td>\n",
       "      <td>F</td>\n",
       "      <td>3</td>\n",
       "      <td>3</td>\n",
       "      <td>healthcare representative</td>\n",
       "      <td>4</td>\n",
       "      <td>married</td>\n",
       "      <td>NaN</td>\n",
       "      <td>1</td>\n",
       "      <td>NaN</td>\n",
       "      <td>11</td>\n",
       "      <td>3.0</td>\n",
       "      <td>4</td>\n",
       "      <td>part-time</td>\n",
       "      <td>1</td>\n",
       "      <td>NaN</td>\n",
       "      <td>3.0</td>\n",
       "      <td>10</td>\n",
       "      <td>0</td>\n",
       "      <td>5</td>\n",
       "      <td>yes</td>\n",
       "    </tr>\n",
       "    <tr>\n",
       "      <th>712</th>\n",
       "      <td>54</td>\n",
       "      <td>no</td>\n",
       "      <td>non-travel</td>\n",
       "      <td>19</td>\n",
       "      <td>4</td>\n",
       "      <td>NaN</td>\n",
       "      <td>4</td>\n",
       "      <td>F</td>\n",
       "      <td>3</td>\n",
       "      <td>2</td>\n",
       "      <td>manufacturing director</td>\n",
       "      <td>1</td>\n",
       "      <td>divorced</td>\n",
       "      <td>5485.0</td>\n",
       "      <td>9</td>\n",
       "      <td>Yes</td>\n",
       "      <td>11</td>\n",
       "      <td>NaN</td>\n",
       "      <td>2</td>\n",
       "      <td>full-time</td>\n",
       "      <td>2</td>\n",
       "      <td>NaN</td>\n",
       "      <td>3.0</td>\n",
       "      <td>5</td>\n",
       "      <td>1</td>\n",
       "      <td>4</td>\n",
       "      <td>yes</td>\n",
       "    </tr>\n",
       "    <tr>\n",
       "      <th>904</th>\n",
       "      <td>29</td>\n",
       "      <td>yes</td>\n",
       "      <td>non-travel</td>\n",
       "      <td>25</td>\n",
       "      <td>5</td>\n",
       "      <td>technical degree</td>\n",
       "      <td>3</td>\n",
       "      <td>F</td>\n",
       "      <td>2</td>\n",
       "      <td>1</td>\n",
       "      <td>research scientist</td>\n",
       "      <td>2</td>\n",
       "      <td>married</td>\n",
       "      <td>2546.0</td>\n",
       "      <td>5</td>\n",
       "      <td>No</td>\n",
       "      <td>16</td>\n",
       "      <td>3.0</td>\n",
       "      <td>2</td>\n",
       "      <td>full-time</td>\n",
       "      <td>0</td>\n",
       "      <td>6.0</td>\n",
       "      <td>4.0</td>\n",
       "      <td>2</td>\n",
       "      <td>1</td>\n",
       "      <td>1</td>\n",
       "      <td>no</td>\n",
       "    </tr>\n",
       "    <tr>\n",
       "      <th>272</th>\n",
       "      <td>34</td>\n",
       "      <td>yes</td>\n",
       "      <td>travel_frequently</td>\n",
       "      <td>7</td>\n",
       "      <td>3</td>\n",
       "      <td>NaN</td>\n",
       "      <td>1</td>\n",
       "      <td>M</td>\n",
       "      <td>1</td>\n",
       "      <td>2</td>\n",
       "      <td>laboratory technician</td>\n",
       "      <td>3</td>\n",
       "      <td>NaN</td>\n",
       "      <td>6074.0</td>\n",
       "      <td>1</td>\n",
       "      <td>Yes</td>\n",
       "      <td>24</td>\n",
       "      <td>4.0</td>\n",
       "      <td>4</td>\n",
       "      <td>full-time</td>\n",
       "      <td>0</td>\n",
       "      <td>9.0</td>\n",
       "      <td>NaN</td>\n",
       "      <td>9</td>\n",
       "      <td>0</td>\n",
       "      <td>6</td>\n",
       "      <td>yes</td>\n",
       "    </tr>\n",
       "    <tr>\n",
       "      <th>686</th>\n",
       "      <td>53</td>\n",
       "      <td>no</td>\n",
       "      <td>non-travel</td>\n",
       "      <td>3</td>\n",
       "      <td>4</td>\n",
       "      <td>NaN</td>\n",
       "      <td>3</td>\n",
       "      <td>M</td>\n",
       "      <td>3</td>\n",
       "      <td>4</td>\n",
       "      <td>research director</td>\n",
       "      <td>3</td>\n",
       "      <td>married</td>\n",
       "      <td>17584.0</td>\n",
       "      <td>3</td>\n",
       "      <td>Yes</td>\n",
       "      <td>16</td>\n",
       "      <td>3.0</td>\n",
       "      <td>4</td>\n",
       "      <td>full-time</td>\n",
       "      <td>3</td>\n",
       "      <td>21.0</td>\n",
       "      <td>2.0</td>\n",
       "      <td>5</td>\n",
       "      <td>1</td>\n",
       "      <td>3</td>\n",
       "      <td>yes</td>\n",
       "    </tr>\n",
       "    <tr>\n",
       "      <th>141</th>\n",
       "      <td>34</td>\n",
       "      <td>no</td>\n",
       "      <td>travel_frequently</td>\n",
       "      <td>1</td>\n",
       "      <td>3</td>\n",
       "      <td>NaN</td>\n",
       "      <td>4</td>\n",
       "      <td>M</td>\n",
       "      <td>2</td>\n",
       "      <td>2</td>\n",
       "      <td>healthcare representative</td>\n",
       "      <td>1</td>\n",
       "      <td>single</td>\n",
       "      <td>NaN</td>\n",
       "      <td>0</td>\n",
       "      <td>No</td>\n",
       "      <td>20</td>\n",
       "      <td>4.0</td>\n",
       "      <td>3</td>\n",
       "      <td>full-time</td>\n",
       "      <td>0</td>\n",
       "      <td>14.0</td>\n",
       "      <td>3.0</td>\n",
       "      <td>13</td>\n",
       "      <td>4</td>\n",
       "      <td>9</td>\n",
       "      <td>yes</td>\n",
       "    </tr>\n",
       "    <tr>\n",
       "      <th>1052</th>\n",
       "      <td>56</td>\n",
       "      <td>no</td>\n",
       "      <td>non-travel</td>\n",
       "      <td>1</td>\n",
       "      <td>2</td>\n",
       "      <td>life sciences</td>\n",
       "      <td>1</td>\n",
       "      <td>F</td>\n",
       "      <td>3</td>\n",
       "      <td>1</td>\n",
       "      <td>research scientist</td>\n",
       "      <td>1</td>\n",
       "      <td>NaN</td>\n",
       "      <td>2066.0</td>\n",
       "      <td>2</td>\n",
       "      <td>NaN</td>\n",
       "      <td>22</td>\n",
       "      <td>4.0</td>\n",
       "      <td>4</td>\n",
       "      <td>full-time</td>\n",
       "      <td>1</td>\n",
       "      <td>5.0</td>\n",
       "      <td>4.0</td>\n",
       "      <td>3</td>\n",
       "      <td>1</td>\n",
       "      <td>0</td>\n",
       "      <td>yes</td>\n",
       "    </tr>\n",
       "  </tbody>\n",
       "</table>\n",
       "</div>"
      ],
      "text/plain": [
       "      age attrition    business_travel  distance_from_home  education  \\\n",
       "258    39        no      travel_rarely                  15          4   \n",
       "1082   32        no         non-travel                   5          4   \n",
       "321    46        no         non-travel                  18          3   \n",
       "1483   33        no         non-travel                   8          1   \n",
       "172    56       yes         non-travel                   7          2   \n",
       "1497   45        no         non-travel                   7          3   \n",
       "519    27        no         non-travel                  15          3   \n",
       "245    40        no      travel_rarely                   7          4   \n",
       "360    44        no         non-travel                   9          2   \n",
       "458    35       yes         non-travel                  27          3   \n",
       "624    34        no         non-travel                  26          1   \n",
       "766    32        no      travel_rarely                  19          3   \n",
       "14     55        no         non-travel                  14          4   \n",
       "407    44       yes      travel_rarely                  15          3   \n",
       "712    54        no         non-travel                  19          4   \n",
       "904    29       yes         non-travel                  25          5   \n",
       "272    34       yes  travel_frequently                   7          3   \n",
       "686    53        no         non-travel                   3          4   \n",
       "141    34        no  travel_frequently                   1          3   \n",
       "1052   56        no         non-travel                   1          2   \n",
       "\n",
       "       education_field  environment_satisfaction gender  job_involvement  \\\n",
       "258          marketing                         2      M                3   \n",
       "1082               NaN                         2      F                4   \n",
       "321            medical                         3      F                3   \n",
       "1483     life sciences                         2      F                2   \n",
       "172   technical degree                         4      M                3   \n",
       "1497           medical                         1      F                3   \n",
       "519                NaN                         4      F                2   \n",
       "245                NaN                         2      M                3   \n",
       "360                NaN                         2      M                3   \n",
       "458                NaN                         3      M                3   \n",
       "624                NaN                         1      F                2   \n",
       "766                NaN                         4      M                1   \n",
       "14             medical                         3      M                4   \n",
       "407            medical                         1      F                3   \n",
       "712                NaN                         4      F                3   \n",
       "904   technical degree                         3      F                2   \n",
       "272                NaN                         1      M                1   \n",
       "686                NaN                         3      M                3   \n",
       "141                NaN                         4      M                2   \n",
       "1052     life sciences                         1      F                3   \n",
       "\n",
       "      job_level                     job_role  job_satisfaction marital_status  \\\n",
       "258           4             sales executive                  1         single   \n",
       "1082          1          research scientist                  4        married   \n",
       "321           2      manufacturing director                  3            NaN   \n",
       "1483          1        sales representative                  4            NaN   \n",
       "172           1       laboratory technician                  3        married   \n",
       "1497          1          research scientist                  3            NaN   \n",
       "519           1          research scientist                  1        married   \n",
       "245           5                     manager                  2            NaN   \n",
       "360           1          research scientist                  1            NaN   \n",
       "458           2             sales executive                  4            NaN   \n",
       "624           1          research scientist                  3       divorced   \n",
       "766           3             sales executive                  3        married   \n",
       "14            5           research director                  2         single   \n",
       "407           3   healthcare representative                  4        married   \n",
       "712           2      manufacturing director                  1       divorced   \n",
       "904           1          research scientist                  2        married   \n",
       "272           2       laboratory technician                  3            NaN   \n",
       "686           4           research director                  3        married   \n",
       "141           2   healthcare representative                  1         single   \n",
       "1052          1          research scientist                  1            NaN   \n",
       "\n",
       "      monthly_income_$  num_companies_worked over_time  percent_salary_hike  \\\n",
       "258            13341.0                     0        No                   12   \n",
       "1082            3312.0                     3        No                   17   \n",
       "321                NaN                     2        No                   14   \n",
       "1483               NaN                     0       NaN                   19   \n",
       "172                NaN                     8        No                   11   \n",
       "1497               NaN                     4       Yes                   19   \n",
       "519             4774.0                     0        No                   19   \n",
       "245                NaN                     1        No                   14   \n",
       "360                NaN                     1       Yes                   13   \n",
       "458             5813.0                     1       NaN                   18   \n",
       "624             2029.0                     1        No                   20   \n",
       "766                NaN                     3        No                   13   \n",
       "14                 NaN                     8        No                   11   \n",
       "407                NaN                     1       NaN                   11   \n",
       "712             5485.0                     9       Yes                   11   \n",
       "904             2546.0                     5        No                   16   \n",
       "272             6074.0                     1       Yes                   24   \n",
       "686            17584.0                     3       Yes                   16   \n",
       "141                NaN                     0        No                   20   \n",
       "1052            2066.0                     2       NaN                   22   \n",
       "\n",
       "      performance_rating  relationship_satisfaction standard_hours  \\\n",
       "258                  3.0                          1      full-time   \n",
       "1082                 3.0                          4      full-time   \n",
       "321                  3.0                          3      full-time   \n",
       "1483                 3.0                          4      full-time   \n",
       "172                  3.0                          4      part-time   \n",
       "1497                 3.0                          3      full-time   \n",
       "519                  3.0                          4      full-time   \n",
       "245                  3.0                          2      full-time   \n",
       "360                  3.0                          4      part-time   \n",
       "458                  3.0                          4      part-time   \n",
       "624                  4.0                          3      full-time   \n",
       "766                  3.0                          3      full-time   \n",
       "14                   3.0                          4      full-time   \n",
       "407                  3.0                          4      part-time   \n",
       "712                  NaN                          2      full-time   \n",
       "904                  3.0                          2      full-time   \n",
       "272                  4.0                          4      full-time   \n",
       "686                  3.0                          4      full-time   \n",
       "141                  4.0                          3      full-time   \n",
       "1052                 4.0                          4      full-time   \n",
       "\n",
       "      stock_option_level  total_working_years  worklife_balance  \\\n",
       "258                    0                 21.0               3.0   \n",
       "1082                   2                  6.0               3.0   \n",
       "321                    1                 19.0               2.0   \n",
       "1483                   0                  NaN               2.0   \n",
       "172                    1                 14.0               1.0   \n",
       "1497                   1                  NaN               NaN   \n",
       "519                    1                  NaN               NaN   \n",
       "245                    0                  NaN               2.0   \n",
       "360                    0                  8.0               3.0   \n",
       "458                    0                  NaN               3.0   \n",
       "624                    3                  5.0               3.0   \n",
       "766                    1                  NaN               1.0   \n",
       "14                     0                  NaN               3.0   \n",
       "407                    1                  NaN               3.0   \n",
       "712                    2                  NaN               3.0   \n",
       "904                    0                  6.0               4.0   \n",
       "272                    0                  9.0               NaN   \n",
       "686                    3                 21.0               2.0   \n",
       "141                    0                 14.0               3.0   \n",
       "1052                   1                  5.0               4.0   \n",
       "\n",
       "      years_at_company  years_since_last_promotion  years_with_curr_manager  \\\n",
       "258                 20                          11                       10   \n",
       "1082                 3                           0                        2   \n",
       "321                 10                           0                        8   \n",
       "1483                 2                           2                        2   \n",
       "172                 10                           9                        8   \n",
       "1497                 3                           0                        2   \n",
       "519                  7                           7                        3   \n",
       "245                 21                          12                        8   \n",
       "360                  8                           7                        1   \n",
       "458                 10                           7                        7   \n",
       "624                  5                           0                        0   \n",
       "766                  4                           0                        2   \n",
       "14                  24                           2                       15   \n",
       "407                 10                           0                        5   \n",
       "712                  5                           1                        4   \n",
       "904                  2                           1                        1   \n",
       "272                  9                           0                        6   \n",
       "686                  5                           1                        3   \n",
       "141                 13                           4                        9   \n",
       "1052                 3                           1                        0   \n",
       "\n",
       "     remote_work  \n",
       "258           no  \n",
       "1082         yes  \n",
       "321           no  \n",
       "1483          no  \n",
       "172          yes  \n",
       "1497         yes  \n",
       "519           no  \n",
       "245           no  \n",
       "360          yes  \n",
       "458           no  \n",
       "624          yes  \n",
       "766           no  \n",
       "14           yes  \n",
       "407          yes  \n",
       "712          yes  \n",
       "904           no  \n",
       "272          yes  \n",
       "686          yes  \n",
       "141          yes  \n",
       "1052         yes  "
      ]
     },
     "execution_count": 45,
     "metadata": {},
     "output_type": "execute_result"
    }
   ],
   "source": [
    "df.sample(20)"
   ]
  },
  {
   "cell_type": "markdown",
   "id": "63ec251a",
   "metadata": {},
   "source": [
    "# TRATAMIENTO DE NULOS"
   ]
  },
  {
   "cell_type": "code",
   "execution_count": 46,
   "id": "bb4929be",
   "metadata": {},
   "outputs": [
    {
     "name": "stdout",
     "output_type": "stream",
     "text": [
      "age                             0\n",
      "attrition                       0\n",
      "business_travel                 0\n",
      "distance_from_home              0\n",
      "education                       0\n",
      "education_field               745\n",
      "environment_satisfaction        0\n",
      "gender                          0\n",
      "job_involvement                 0\n",
      "job_level                       0\n",
      "job_role                        0\n",
      "job_satisfaction                0\n",
      "marital_status                651\n",
      "monthly_income_$              843\n",
      "num_companies_worked            0\n",
      "over_time                     676\n",
      "percent_salary_hike             0\n",
      "performance_rating            195\n",
      "relationship_satisfaction       0\n",
      "standard_hours                  0\n",
      "stock_option_level              0\n",
      "total_working_years           526\n",
      "worklife_balance              108\n",
      "years_at_company                0\n",
      "years_since_last_promotion      0\n",
      "years_with_curr_manager         0\n",
      "remote_work                     0\n",
      "dtype: int64\n"
     ]
    }
   ],
   "source": [
    "print(df.isnull().sum())"
   ]
  },
  {
   "cell_type": "code",
   "execution_count": 47,
   "id": "d3aa1402",
   "metadata": {},
   "outputs": [
    {
     "data": {
      "text/plain": [
       "27"
      ]
     },
     "execution_count": 47,
     "metadata": {},
     "output_type": "execute_result"
    }
   ],
   "source": [
    "len(df.columns)"
   ]
  },
  {
   "cell_type": "code",
   "execution_count": 48,
   "id": "887c2936",
   "metadata": {},
   "outputs": [
    {
     "name": "stdout",
     "output_type": "stream",
     "text": [
      "\n",
      "Columnas con nulos y su porcentaje:\n"
     ]
    },
    {
     "data": {
      "application/vnd.microsoft.datawrangler.viewer.v0+json": {
       "columns": [
        {
         "name": "index",
         "rawType": "object",
         "type": "string"
        },
        {
         "name": "%_nulos",
         "rawType": "float64",
         "type": "float"
        }
       ],
       "ref": "b45b59f8-25ac-4fde-b1a1-b0aa6da71594",
       "rows": [
        [
         "education_field",
         "46.15861214374225"
        ],
        [
         "marital_status",
         "40.33457249070632"
        ],
        [
         "monthly_income_$",
         "52.23048327137546"
        ],
        [
         "over_time",
         "41.883519206939276"
        ],
        [
         "performance_rating",
         "12.0817843866171"
        ],
        [
         "total_working_years",
         "32.58983890954151"
        ],
        [
         "worklife_balance",
         "6.691449814126393"
        ]
       ],
       "shape": {
        "columns": 1,
        "rows": 7
       }
      },
      "text/html": [
       "<div>\n",
       "<style scoped>\n",
       "    .dataframe tbody tr th:only-of-type {\n",
       "        vertical-align: middle;\n",
       "    }\n",
       "\n",
       "    .dataframe tbody tr th {\n",
       "        vertical-align: top;\n",
       "    }\n",
       "\n",
       "    .dataframe thead th {\n",
       "        text-align: right;\n",
       "    }\n",
       "</style>\n",
       "<table border=\"1\" class=\"dataframe\">\n",
       "  <thead>\n",
       "    <tr style=\"text-align: right;\">\n",
       "      <th></th>\n",
       "      <th>%_nulos</th>\n",
       "    </tr>\n",
       "  </thead>\n",
       "  <tbody>\n",
       "    <tr>\n",
       "      <th>education_field</th>\n",
       "      <td>46.158612</td>\n",
       "    </tr>\n",
       "    <tr>\n",
       "      <th>marital_status</th>\n",
       "      <td>40.334572</td>\n",
       "    </tr>\n",
       "    <tr>\n",
       "      <th>monthly_income_$</th>\n",
       "      <td>52.230483</td>\n",
       "    </tr>\n",
       "    <tr>\n",
       "      <th>over_time</th>\n",
       "      <td>41.883519</td>\n",
       "    </tr>\n",
       "    <tr>\n",
       "      <th>performance_rating</th>\n",
       "      <td>12.081784</td>\n",
       "    </tr>\n",
       "    <tr>\n",
       "      <th>total_working_years</th>\n",
       "      <td>32.589839</td>\n",
       "    </tr>\n",
       "    <tr>\n",
       "      <th>worklife_balance</th>\n",
       "      <td>6.691450</td>\n",
       "    </tr>\n",
       "  </tbody>\n",
       "</table>\n",
       "</div>"
      ],
      "text/plain": [
       "                       %_nulos\n",
       "education_field      46.158612\n",
       "marital_status       40.334572\n",
       "monthly_income_$     52.230483\n",
       "over_time            41.883519\n",
       "performance_rating   12.081784\n",
       "total_working_years  32.589839\n",
       "worklife_balance      6.691450"
      ]
     },
     "metadata": {},
     "output_type": "display_data"
    },
    {
     "name": "stdout",
     "output_type": "stream",
     "text": [
      "\n",
      "Columnas categóricas con nulos:\n",
      "Index(['education_field', 'marital_status', 'over_time'], dtype='object')\n",
      "\n",
      "Columnas numéricas con nulos:\n",
      "Index(['monthly_income_$', 'performance_rating', 'total_working_years',\n",
      "       'worklife_balance'],\n",
      "      dtype='object')\n"
     ]
    }
   ],
   "source": [
    "# 4. DataFrame con columnas que tienen nulos y su %:\n",
    "porc_nulos = (df.isnull().sum() / df.shape[0]) * 100\n",
    "df_nulos = pd.DataFrame(porc_nulos, columns=[\"%_nulos\"])\n",
    "print(\"\\nColumnas con nulos y su porcentaje:\")\n",
    "display(df_nulos[df_nulos[\"%_nulos\"] > 0])\n",
    "\n",
    "# 5. Columnas categóricas con nulos\n",
    "print(\"\\nColumnas categóricas con nulos:\")\n",
    "nulos_esta_cat = df[df.columns[df.isnull().any()]].select_dtypes(include=\"O\").columns\n",
    "print(nulos_esta_cat)\n",
    "\n",
    "# 6. Columnas numéricas con nulos\n",
    "print(\"\\nColumnas numéricas con nulos:\")\n",
    "nulos_esta_num = df[df.columns[df.isnull().any()]].select_dtypes(include=np.number).columns\n",
    "print(nulos_esta_num)"
   ]
  },
  {
   "cell_type": "markdown",
   "id": "ba7e2023",
   "metadata": {},
   "source": [
    "## Categoricas"
   ]
  },
  {
   "cell_type": "code",
   "execution_count": 49,
   "id": "a2f5ee06",
   "metadata": {},
   "outputs": [
    {
     "name": "stdout",
     "output_type": "stream",
     "text": [
      "La distribución de las categorías (incluyendo nulos) para la columna education_field\n"
     ]
    },
    {
     "data": {
      "application/vnd.microsoft.datawrangler.viewer.v0+json": {
       "columns": [
        {
         "name": "education_field",
         "rawType": "object",
         "type": "unknown"
        },
        {
         "name": "proportion",
         "rawType": "float64",
         "type": "float"
        }
       ],
       "ref": "1a7d89f0-912f-402e-8d4a-9f44ea3ac881",
       "rows": [
        [
         null,
         "46.15861214374225"
        ],
        [
         "life sciences",
         "21.623296158612142"
        ],
        [
         "medical",
         "17.100371747211895"
        ],
        [
         "marketing",
         "6.443618339529119"
        ],
        [
         "technical degree",
         "4.275092936802974"
        ],
        [
         "other",
         "3.6555142503097895"
        ],
        [
         "human resources",
         "0.7434944237918215"
        ]
       ],
       "shape": {
        "columns": 1,
        "rows": 7
       }
      },
      "text/plain": [
       "education_field\n",
       "NaN                 46.158612\n",
       "life sciences       21.623296\n",
       "medical             17.100372\n",
       "marketing            6.443618\n",
       "technical degree     4.275093\n",
       "other                3.655514\n",
       "human resources      0.743494\n",
       "Name: proportion, dtype: float64"
      ]
     },
     "metadata": {},
     "output_type": "display_data"
    },
    {
     "name": "stdout",
     "output_type": "stream",
     "text": [
      "........................\n",
      "La distribución de las categorías (incluyendo nulos) para la columna marital_status\n"
     ]
    },
    {
     "data": {
      "application/vnd.microsoft.datawrangler.viewer.v0+json": {
       "columns": [
        {
         "name": "marital_status",
         "rawType": "object",
         "type": "unknown"
        },
        {
         "name": "proportion",
         "rawType": "float64",
         "type": "float"
        }
       ],
       "ref": "c05f6d62-e570-4682-b563-6fb9845dd95e",
       "rows": [
        [
         null,
         "40.33457249070632"
        ],
        [
         "married",
         "27.199504337050804"
        ],
        [
         "single",
         "20.1363073110285"
        ],
        [
         "divorced",
         "12.329615861214375"
        ]
       ],
       "shape": {
        "columns": 1,
        "rows": 4
       }
      },
      "text/plain": [
       "marital_status\n",
       "NaN         40.334572\n",
       "married     27.199504\n",
       "single      20.136307\n",
       "divorced    12.329616\n",
       "Name: proportion, dtype: float64"
      ]
     },
     "metadata": {},
     "output_type": "display_data"
    },
    {
     "name": "stdout",
     "output_type": "stream",
     "text": [
      "........................\n",
      "La distribución de las categorías (incluyendo nulos) para la columna over_time\n"
     ]
    },
    {
     "data": {
      "application/vnd.microsoft.datawrangler.viewer.v0+json": {
       "columns": [
        {
         "name": "over_time",
         "rawType": "object",
         "type": "unknown"
        },
        {
         "name": "proportion",
         "rawType": "float64",
         "type": "float"
        }
       ],
       "ref": "c3ffbbef-4b04-4f0f-b61a-04fb2426be77",
       "rows": [
        [
         "No",
         "42.25526641883519"
        ],
        [
         null,
         "41.883519206939276"
        ],
        [
         "Yes",
         "15.861214374225527"
        ]
       ],
       "shape": {
        "columns": 1,
        "rows": 3
       }
      },
      "text/plain": [
       "over_time\n",
       "No     42.255266\n",
       "NaN    41.883519\n",
       "Yes    15.861214\n",
       "Name: proportion, dtype: float64"
      ]
     },
     "metadata": {},
     "output_type": "display_data"
    },
    {
     "name": "stdout",
     "output_type": "stream",
     "text": [
      "........................\n"
     ]
    }
   ],
   "source": [
    "for col in nulos_esta_cat:\n",
    "    print(f\"La distribución de las categorías (incluyendo nulos) para la columna\", col)\n",
    "    display(df[col].value_counts(dropna=False, normalize=True) * 100)  # Convertimos a porcentaje\n",
    "    print(\"........................\")"
   ]
  },
  {
   "cell_type": "code",
   "execution_count": null,
   "id": "2657c03e",
   "metadata": {},
   "outputs": [],
   "source": [
    "# cambiamos los nulos de las siguientes columnas ya que el porcentgae es alto por \"unknown\":\n",
    "columnas_desconocido = [\"education_field\", \"marital_status\", \"over_time\"]\n",
    "for col in columnas_desconocido:\n",
    "    df[col] = df[col].fillna('unknown')"
   ]
  },
  {
   "cell_type": "code",
   "execution_count": 51,
   "id": "bc28d319",
   "metadata": {},
   "outputs": [
    {
     "data": {
      "text/plain": [
       "Index([], dtype='object')"
      ]
     },
     "execution_count": 51,
     "metadata": {},
     "output_type": "execute_result"
    }
   ],
   "source": [
    "# comprobar nulos de nuestras variables Categoricas:\n",
    "columnas_object_con_nulos = df[df.columns[df.isnull().any()]].select_dtypes(include = \"O\").columns\n",
    "columnas_object_con_nulos "
   ]
  },
  {
   "cell_type": "markdown",
   "id": "14f99a3d",
   "metadata": {},
   "source": [
    "## Numericas"
   ]
  },
  {
   "cell_type": "code",
   "execution_count": null,
   "id": "b5f0b99b",
   "metadata": {},
   "outputs": [
    {
     "data": {
      "text/plain": [
       "Index(['monthly_income_$', 'performance_rating', 'total_working_years',\n",
       "       'worklife_balance'],\n",
       "      dtype='object')"
      ]
     },
     "execution_count": 53,
     "metadata": {},
     "output_type": "execute_result"
    }
   ],
   "source": [
    "#Estas son las columnas numéricas que tienen nulos:\n",
    "columnas_number_con_nulos = df[df.columns[df.isnull().any()]].select_dtypes(include = \"number\").columns\n",
    "columnas_number_con_nulos"
   ]
  },
  {
   "cell_type": "code",
   "execution_count": 56,
   "id": "9522611f",
   "metadata": {},
   "outputs": [
    {
     "data": {
      "application/vnd.microsoft.datawrangler.viewer.v0+json": {
       "columns": [
        {
         "name": "index",
         "rawType": "object",
         "type": "string"
        },
        {
         "name": "0",
         "rawType": "float64",
         "type": "float"
        }
       ],
       "ref": "3cf00fa4-32f9-44a2-a7bb-dc1b268d4b4d",
       "rows": [
        [
         "monthly_income_$",
         "0.5223048327137546"
        ],
        [
         "performance_rating",
         "0.120817843866171"
        ],
        [
         "total_working_years",
         "0.32589838909541513"
        ],
        [
         "worklife_balance",
         "0.06691449814126393"
        ]
       ],
       "shape": {
        "columns": 1,
        "rows": 4
       }
      },
      "text/plain": [
       "monthly_income_$       0.522305\n",
       "performance_rating     0.120818\n",
       "total_working_years    0.325898\n",
       "worklife_balance       0.066914\n",
       "dtype: float64"
      ]
     },
     "execution_count": 56,
     "metadata": {},
     "output_type": "execute_result"
    }
   ],
   "source": [
    "df[columnas_number_con_nulos].isnull().sum() / df.shape[0]"
   ]
  },
  {
   "cell_type": "code",
   "execution_count": 12,
   "id": "b9f362ee",
   "metadata": {},
   "outputs": [
    {
     "data": {
      "image/png": "[encoded data removed]",
      "text/plain": [
       "<Figure size 2000x1000 with 5 Axes>"
      ]
     },
     "metadata": {},
     "output_type": "display_data"
    }
   ],
   "source": [
    "# lo siguiente que tendríamos que hacer es ver si dentro de las columnas donde tenemos nulos tenemos valores atípicos. \n",
    " \n",
    "fig, axes = plt.subplots(nrows = 2, ncols = 3, figsize = (20,10)) \n",
    "axes = axes.flat\n",
    "for indice, col in enumerate(columnas_number_con_nulos):\n",
    "    sns.boxplot(x = col, data = df, ax = axes[indice])\n",
    "    \n",
    "plt.tight_layout()\n",
    "fig.delaxes(axes[-1]);"
   ]
  },
  {
   "cell_type": "code",
   "execution_count": 13,
   "id": "3cac2d2e",
   "metadata": {},
   "outputs": [
    {
     "name": "stdout",
     "output_type": "stream",
     "text": [
      "La distribución de las categorías (incluyendo nulos) para la columna monthly_income_$\n"
     ]
    },
    {
     "data": {
      "application/vnd.microsoft.datawrangler.viewer.v0+json": {
       "columns": [
        {
         "name": "monthly_income_$",
         "rawType": "float64",
         "type": "float"
        },
        {
         "name": "proportion",
         "rawType": "float64",
         "type": "float"
        }
       ],
       "ref": "0a64b0ce-8076-4570-ad44-9e9c5be6e663",
       "rows": [
        [
         null,
         "52.23048327137546"
        ],
        [
         "6347.0",
         "0.24783147459727387"
        ],
        [
         "5304.0",
         "0.24783147459727387"
        ],
        [
         "2657.0",
         "0.18587360594795538"
        ],
        [
         "2258.0",
         "0.18587360594795538"
        ],
        [
         "5405.0",
         "0.12391573729863693"
        ],
        [
         "8224.0",
         "0.12391573729863693"
        ],
        [
         "2610.0",
         "0.12391573729863693"
        ],
        [
         "5731.0",
         "0.12391573729863693"
        ],
        [
         "2539.0",
         "0.12391573729863693"
        ],
        [
         "2376.0",
         "0.12391573729863693"
        ],
        [
         "11713.0",
         "0.12391573729863693"
        ],
        [
         "2216.0",
         "0.12391573729863693"
        ],
        [
         "19189.0",
         "0.12391573729863693"
        ],
        [
         "8793.0",
         "0.12391573729863693"
        ],
        [
         "3452.0",
         "0.12391573729863693"
        ],
        [
         "2070.0",
         "0.12391573729863693"
        ],
        [
         "2587.0",
         "0.12391573729863693"
        ],
        [
         "4960.0",
         "0.12391573729863693"
        ],
        [
         "11159.0",
         "0.12391573729863693"
        ],
        [
         "5396.0",
         "0.12391573729863693"
        ],
        [
         "2782.0",
         "0.12391573729863693"
        ],
        [
         "4197.0",
         "0.12391573729863693"
        ],
        [
         "9434.0",
         "0.12391573729863693"
        ],
        [
         "5337.0",
         "0.12391573729863693"
        ],
        [
         "2741.0",
         "0.12391573729863693"
        ],
        [
         "2791.0",
         "0.12391573729863693"
        ],
        [
         "5828.0",
         "0.12391573729863693"
        ],
        [
         "3420.0",
         "0.12391573729863693"
        ],
        [
         "2033.0",
         "0.12391573729863693"
        ],
        [
         "2821.0",
         "0.12391573729863693"
        ],
        [
         "7756.0",
         "0.12391573729863693"
        ],
        [
         "2042.0",
         "0.12391573729863693"
        ],
        [
         "6632.0",
         "0.12391573729863693"
        ],
        [
         "7587.0",
         "0.12391573729863693"
        ],
        [
         "4335.0",
         "0.12391573729863693"
        ],
        [
         "5980.0",
         "0.12391573729863693"
        ],
        [
         "4244.0",
         "0.12391573729863693"
        ],
        [
         "5228.0",
         "0.12391573729863693"
        ],
        [
         "2700.0",
         "0.12391573729863693"
        ],
        [
         "2909.0",
         "0.12391573729863693"
        ],
        [
         "2404.0",
         "0.12391573729863693"
        ],
        [
         "2377.0",
         "0.12391573729863693"
        ],
        [
         "2366.0",
         "0.12391573729863693"
        ],
        [
         "2329.0",
         "0.12391573729863693"
        ],
        [
         "4294.0",
         "0.12391573729863693"
        ],
        [
         "6725.0",
         "0.12391573729863693"
        ],
        [
         "10325.0",
         "0.12391573729863693"
        ],
        [
         "4447.0",
         "0.12391573729863693"
        ],
        [
         "10845.0",
         "0.12391573729863693"
        ]
       ],
       "shape": {
        "columns": 1,
        "rows": 669
       }
      },
      "text/plain": [
       "monthly_income_$\n",
       "NaN        52.230483\n",
       "6347.0      0.247831\n",
       "5304.0      0.247831\n",
       "2657.0      0.185874\n",
       "2258.0      0.185874\n",
       "5405.0      0.123916\n",
       "8224.0      0.123916\n",
       "2610.0      0.123916\n",
       "5731.0      0.123916\n",
       "2539.0      0.123916\n",
       "2376.0      0.123916\n",
       "11713.0     0.123916\n",
       "2216.0      0.123916\n",
       "19189.0     0.123916\n",
       "8793.0      0.123916\n",
       "3452.0      0.123916\n",
       "2070.0      0.123916\n",
       "2587.0      0.123916\n",
       "4960.0      0.123916\n",
       "11159.0     0.123916\n",
       "5396.0      0.123916\n",
       "2782.0      0.123916\n",
       "4197.0      0.123916\n",
       "9434.0      0.123916\n",
       "5337.0      0.123916\n",
       "2741.0      0.123916\n",
       "2791.0      0.123916\n",
       "5828.0      0.123916\n",
       "3420.0      0.123916\n",
       "2033.0      0.123916\n",
       "2821.0      0.123916\n",
       "7756.0      0.123916\n",
       "2042.0      0.123916\n",
       "6632.0      0.123916\n",
       "7587.0      0.123916\n",
       "4335.0      0.123916\n",
       "5980.0      0.123916\n",
       "4244.0      0.123916\n",
       "5228.0      0.123916\n",
       "2700.0      0.123916\n",
       "2909.0      0.123916\n",
       "2404.0      0.123916\n",
       "2377.0      0.123916\n",
       "2366.0      0.123916\n",
       "2329.0      0.123916\n",
       "4294.0      0.123916\n",
       "6725.0      0.123916\n",
       "10325.0     0.123916\n",
       "4447.0      0.123916\n",
       "10845.0     0.123916\n",
       "2380.0      0.123916\n",
       "4805.0      0.123916\n",
       "17861.0     0.123916\n",
       "5605.0      0.123916\n",
       "6162.0      0.123916\n",
       "6410.0      0.123916\n",
       "13212.0     0.123916\n",
       "3034.0      0.123916\n",
       "5974.0      0.123916\n",
       "2119.0      0.123916\n",
       "2144.0      0.123916\n",
       "5373.0      0.123916\n",
       "5257.0      0.123916\n",
       "4682.0      0.123916\n",
       "5769.0      0.123916\n",
       "3539.0      0.123916\n",
       "5468.0      0.123916\n",
       "5813.0      0.123916\n",
       "9667.0      0.123916\n",
       "5154.0      0.123916\n",
       "5675.0      0.123916\n",
       "7314.0      0.123916\n",
       "5055.0      0.123916\n",
       "2455.0      0.123916\n",
       "4941.0      0.123916\n",
       "3983.0      0.123916\n",
       "2904.0      0.123916\n",
       "2696.0      0.123916\n",
       "2308.0      0.123916\n",
       "4051.0      0.123916\n",
       "8392.0      0.123916\n",
       "2654.0      0.123916\n",
       "17046.0     0.123916\n",
       "4306.0      0.123916\n",
       "11510.0     0.123916\n",
       "9613.0      0.123916\n",
       "16015.0     0.123916\n",
       "19045.0     0.123916\n",
       "2218.0      0.123916\n",
       "6538.0      0.123916\n",
       "3904.0      0.123916\n",
       "19406.0     0.123916\n",
       "2543.0      0.123916\n",
       "10965.0     0.123916\n",
       "6755.0      0.123916\n",
       "2174.0      0.123916\n",
       "3760.0      0.123916\n",
       "11103.0     0.123916\n",
       "19537.0     0.061958\n",
       "3180.0      0.061958\n",
       "3445.0      0.061958\n",
       "4440.0      0.061958\n",
       "10448.0     0.061958\n",
       "5399.0      0.061958\n",
       "3978.0      0.061958\n",
       "8103.0      0.061958\n",
       "5507.0      0.061958\n",
       "2062.0      0.061958\n",
       "2662.0      0.061958\n",
       "3902.0      0.061958\n",
       "2105.0      0.061958\n",
       "3591.0      0.061958\n",
       "13116.0     0.061958\n",
       "6294.0      0.061958\n",
       "2760.0      0.061958\n",
       "3907.0      0.061958\n",
       "11244.0     0.061958\n",
       "3477.0      0.061958\n",
       "3433.0      0.061958\n",
       "2305.0      0.061958\n",
       "15972.0     0.061958\n",
       "5505.0      0.061958\n",
       "4374.0      0.061958\n",
       "2166.0      0.061958\n",
       "4898.0      0.061958\n",
       "15202.0     0.061958\n",
       "3117.0      0.061958\n",
       "3312.0      0.061958\n",
       "4855.0      0.061958\n",
       "6392.0      0.061958\n",
       "4069.0      0.061958\n",
       "2580.0      0.061958\n",
       "19081.0     0.061958\n",
       "6651.0      0.061958\n",
       "4262.0      0.061958\n",
       "2400.0      0.061958\n",
       "3681.0      0.061958\n",
       "3447.0      0.061958\n",
       "19513.0     0.061958\n",
       "2659.0      0.061958\n",
       "8847.0      0.061958\n",
       "2045.0      0.061958\n",
       "4851.0      0.061958\n",
       "8120.0      0.061958\n",
       "4577.0      0.061958\n",
       "3708.0      0.061958\n",
       "13770.0     0.061958\n",
       "2297.0      0.061958\n",
       "2450.0      0.061958\n",
       "4342.0      0.061958\n",
       "2572.0      0.061958\n",
       "6500.0      0.061958\n",
       "10527.0     0.061958\n",
       "3894.0      0.061958\n",
       "3162.0      0.061958\n",
       "2546.0      0.061958\n",
       "10650.0     0.061958\n",
       "4317.0      0.061958\n",
       "2024.0      0.061958\n",
       "3058.0      0.061958\n",
       "3929.0      0.061958\n",
       "4425.0      0.061958\n",
       "2328.0      0.061958\n",
       "5940.0      0.061958\n",
       "2622.0      0.061958\n",
       "3212.0      0.061958\n",
       "2911.0      0.061958\n",
       "6931.0      0.061958\n",
       "2176.0      0.061958\n",
       "3230.0      0.061958\n",
       "18665.0     0.061958\n",
       "2789.0      0.061958\n",
       "11935.0     0.061958\n",
       "3149.0      0.061958\n",
       "5324.0      0.061958\n",
       "4382.0      0.061958\n",
       "2553.0      0.061958\n",
       "3867.0      0.061958\n",
       "2080.0      0.061958\n",
       "2096.0      0.061958\n",
       "4627.0      0.061958\n",
       "2302.0      0.061958\n",
       "5071.0      0.061958\n",
       "10596.0     0.061958\n",
       "5467.0      0.061958\n",
       "2394.0      0.061958\n",
       "3629.0      0.061958\n",
       "9362.0      0.061958\n",
       "3229.0      0.061958\n",
       "16422.0     0.061958\n",
       "5647.0      0.061958\n",
       "4400.0      0.061958\n",
       "2066.0      0.061958\n",
       "5486.0      0.061958\n",
       "4538.0      0.061958\n",
       "2743.0      0.061958\n",
       "3375.0      0.061958\n",
       "5562.0      0.061958\n",
       "5933.0      0.061958\n",
       "4403.0      0.061958\n",
       "10934.0     0.061958\n",
       "2022.0      0.061958\n",
       "4256.0      0.061958\n",
       "3580.0      0.061958\n",
       "2899.0      0.061958\n",
       "2799.0      0.061958\n",
       "2207.0      0.061958\n",
       "2811.0      0.061958\n",
       "4377.0      0.061958\n",
       "4240.0      0.061958\n",
       "4227.0      0.061958\n",
       "3917.0      0.061958\n",
       "4969.0      0.061958\n",
       "9957.0      0.061958\n",
       "2660.0      0.061958\n",
       "4422.0      0.061958\n",
       "2269.0      0.061958\n",
       "4766.0      0.061958\n",
       "18303.0     0.061958\n",
       "4777.0      0.061958\n",
       "1052.0      0.061958\n",
       "2461.0      0.061958\n",
       "2596.0      0.061958\n",
       "4728.0      0.061958\n",
       "7351.0      0.061958\n",
       "2827.0      0.061958\n",
       "4787.0      0.061958\n",
       "2853.0      0.061958\n",
       "2290.0      0.061958\n",
       "2107.0      0.061958\n",
       "2210.0      0.061958\n",
       "13191.0     0.061958\n",
       "18265.0     0.061958\n",
       "1118.0      0.061958\n",
       "2600.0      0.061958\n",
       "4163.0      0.061958\n",
       "13194.0     0.061958\n",
       "2479.0      0.061958\n",
       "16627.0     0.061958\n",
       "2083.0      0.061958\n",
       "1009.0      0.061958\n",
       "7861.0      0.061958\n",
       "2642.0      0.061958\n",
       "5121.0      0.061958\n",
       "2694.0      0.061958\n",
       "5094.0      0.061958\n",
       "2274.0      0.061958\n",
       "2314.0      0.061958\n",
       "2008.0      0.061958\n",
       "10552.0     0.061958\n",
       "2259.0      0.061958\n",
       "2413.0      0.061958\n",
       "2121.0      0.061958\n",
       "2372.0      0.061958\n",
       "2838.0      0.061958\n",
       "18061.0     0.061958\n",
       "2862.0      0.061958\n",
       "9756.0      0.061958\n",
       "5294.0      0.061958\n",
       "2437.0      0.061958\n",
       "4071.0      0.061958\n",
       "2956.0      0.061958\n",
       "4648.0      0.061958\n",
       "2804.0      0.061958\n",
       "2439.0      0.061958\n",
       "2856.0      0.061958\n",
       "2933.0      0.061958\n",
       "1091.0      0.061958\n",
       "5151.0      0.061958\n",
       "2863.0      0.061958\n",
       "2858.0      0.061958\n",
       "1129.0      0.061958\n",
       "6735.0      0.061958\n",
       "10883.0     0.061958\n",
       "1611.0      0.061958\n",
       "1393.0      0.061958\n",
       "4768.0      0.061958\n",
       "1274.0      0.061958\n",
       "2561.0      0.061958\n",
       "1563.0      0.061958\n",
       "6388.0      0.061958\n",
       "8376.0      0.061958\n",
       "4841.0      0.061958\n",
       "2074.0      0.061958\n",
       "2972.0      0.061958\n",
       "6815.0      0.061958\n",
       "2690.0      0.061958\n",
       "17567.0     0.061958\n",
       "1569.0      0.061958\n",
       "4187.0      0.061958\n",
       "3306.0      0.061958\n",
       "9602.0      0.061958\n",
       "2127.0      0.061958\n",
       "2340.0      0.061958\n",
       "3617.0      0.061958\n",
       "19237.0     0.061958\n",
       "18844.0     0.061958\n",
       "2552.0      0.061958\n",
       "2678.0      0.061958\n",
       "5171.0      0.061958\n",
       "11916.0     0.061958\n",
       "9380.0      0.061958\n",
       "5878.0      0.061958\n",
       "2468.0      0.061958\n",
       "4127.0      0.061958\n",
       "2148.0      0.061958\n",
       "3886.0      0.061958\n",
       "6667.0      0.061958\n",
       "2090.0      0.061958\n",
       "2086.0      0.061958\n",
       "2684.0      0.061958\n",
       "2318.0      0.061958\n",
       "3022.0      0.061958\n",
       "17159.0     0.061958\n",
       "2809.0      0.061958\n",
       "10854.0     0.061958\n",
       "2571.0      0.061958\n",
       "6142.0      0.061958\n",
       "2496.0      0.061958\n",
       "3419.0      0.061958\n",
       "2501.0      0.061958\n",
       "2566.0      0.061958\n",
       "3920.0      0.061958\n",
       "13964.0     0.061958\n",
       "6540.0      0.061958\n",
       "2244.0      0.061958\n",
       "16184.0     0.061958\n",
       "4233.0      0.061958\n",
       "14814.0     0.061958\n",
       "1951.0      0.061958\n",
       "9724.0      0.061958\n",
       "1878.0      0.061958\n",
       "5238.0      0.061958\n",
       "15992.0     0.061958\n",
       "2370.0      0.061958\n",
       "6781.0      0.061958\n",
       "6653.0      0.061958\n",
       "2851.0      0.061958\n",
       "5258.0      0.061958\n",
       "2476.0      0.061958\n",
       "2285.0      0.061958\n",
       "3448.0      0.061958\n",
       "4558.0      0.061958\n",
       "1702.0      0.061958\n",
       "2564.0      0.061958\n",
       "5070.0      0.061958\n",
       "3780.0      0.061958\n",
       "9824.0      0.061958\n",
       "9985.0      0.061958\n",
       "1200.0      0.061958\n",
       "3388.0      0.061958\n",
       "1420.0      0.061958\n",
       "3038.0      0.061958\n",
       "2322.0      0.061958\n",
       "2926.0      0.061958\n",
       "4505.0      0.061958\n",
       "2835.0      0.061958\n",
       "6553.0      0.061958\n",
       "6673.0      0.061958\n",
       "13591.0     0.061958\n",
       "2177.0      0.061958\n",
       "19517.0     0.061958\n",
       "19202.0     0.061958\n",
       "10048.0     0.061958\n",
       "2723.0      0.061958\n",
       "6644.0      0.061958\n",
       "3161.0      0.061958\n",
       "4739.0      0.061958\n",
       "6272.0      0.061958\n",
       "5021.0      0.061958\n",
       "9924.0      0.061958\n",
       "3069.0      0.061958\n",
       "9241.0      0.061958\n",
       "6472.0      0.061958\n",
       "3055.0      0.061958\n",
       "8321.0      0.061958\n",
       "3143.0      0.061958\n",
       "8578.0      0.061958\n",
       "9888.0      0.061958\n",
       "13341.0     0.061958\n",
       "5677.0      0.061958\n",
       "9526.0      0.061958\n",
       "6825.0      0.061958\n",
       "4424.0      0.061958\n",
       "5441.0      0.061958\n",
       "6074.0      0.061958\n",
       "11245.0     0.061958\n",
       "9714.0      0.061958\n",
       "6172.0      0.061958\n",
       "10124.0     0.061958\n",
       "5309.0      0.061958\n",
       "7654.0      0.061958\n",
       "12808.0     0.061958\n",
       "6586.0      0.061958\n",
       "2519.0      0.061958\n",
       "17099.0     0.061958\n",
       "13120.0     0.061958\n",
       "3131.0      0.061958\n",
       "4444.0      0.061958\n",
       "6674.0      0.061958\n",
       "9852.0      0.061958\n",
       "7446.0      0.061958\n",
       "13757.0     0.061958\n",
       "16598.0     0.061958\n",
       "4285.0      0.061958\n",
       "6146.0      0.061958\n",
       "4668.0      0.061958\n",
       "13664.0     0.061958\n",
       "8500.0      0.061958\n",
       "5363.0      0.061958\n",
       "4081.0      0.061958\n",
       "3578.0      0.061958\n",
       "17328.0     0.061958\n",
       "10793.0     0.061958\n",
       "10851.0     0.061958\n",
       "10466.0     0.061958\n",
       "2362.0      0.061958\n",
       "6439.0      0.061958\n",
       "4385.0      0.061958\n",
       "4066.0      0.061958\n",
       "5206.0      0.061958\n",
       "2655.0      0.061958\n",
       "2570.0      0.061958\n",
       "4502.0      0.061958\n",
       "4639.0      0.061958\n",
       "4534.0      0.061958\n",
       "4319.0      0.061958\n",
       "7094.0      0.061958\n",
       "3564.0      0.061958\n",
       "6261.0      0.061958\n",
       "6804.0      0.061958\n",
       "19436.0     0.061958\n",
       "5472.0      0.061958\n",
       "6385.0      0.061958\n",
       "7525.0      0.061958\n",
       "3660.0      0.061958\n",
       "8740.0      0.061958\n",
       "13499.0     0.061958\n",
       "3491.0      0.061958\n",
       "5220.0      0.061958\n",
       "10252.0     0.061958\n",
       "19740.0     0.061958\n",
       "6209.0      0.061958\n",
       "3348.0      0.061958\n",
       "8412.0      0.061958\n",
       "19197.0     0.061958\n",
       "3210.0      0.061958\n",
       "10475.0     0.061958\n",
       "4721.0      0.061958\n",
       "4615.0      0.061958\n",
       "16959.0     0.061958\n",
       "10306.0     0.061958\n",
       "5406.0      0.061958\n",
       "5902.0      0.061958\n",
       "10855.0     0.061958\n",
       "5914.0      0.061958\n",
       "6646.0      0.061958\n",
       "13973.0     0.061958\n",
       "13320.0     0.061958\n",
       "6687.0      0.061958\n",
       "4735.0      0.061958\n",
       "13872.0     0.061958\n",
       "10266.0     0.061958\n",
       "16064.0     0.061958\n",
       "5674.0      0.061958\n",
       "10447.0     0.061958\n",
       "19232.0     0.061958\n",
       "17169.0     0.061958\n",
       "17174.0     0.061958\n",
       "16595.0     0.061958\n",
       "19973.0     0.061958\n",
       "13402.0     0.061958\n",
       "13206.0     0.061958\n",
       "19545.0     0.061958\n",
       "18041.0     0.061958\n",
       "19246.0     0.061958\n",
       "10748.0     0.061958\n",
       "16752.0     0.061958\n",
       "6201.0      0.061958\n",
       "19845.0     0.061958\n",
       "4001.0      0.061958\n",
       "5067.0      0.061958\n",
       "3692.0      0.061958\n",
       "19847.0     0.061958\n",
       "5747.0      0.061958\n",
       "19187.0     0.061958\n",
       "10008.0     0.061958\n",
       "7988.0      0.061958\n",
       "7083.0      0.061958\n",
       "4723.0      0.061958\n",
       "3407.0      0.061958\n",
       "2929.0      0.061958\n",
       "12031.0     0.061958\n",
       "15427.0     0.061958\n",
       "5126.0      0.061958\n",
       "9619.0      0.061958\n",
       "5010.0      0.061958\n",
       "19033.0     0.061958\n",
       "10400.0     0.061958\n",
       "2793.0      0.061958\n",
       "17123.0     0.061958\n",
       "19190.0     0.061958\n",
       "13577.0     0.061958\n",
       "8943.0      0.061958\n",
       "10422.0     0.061958\n",
       "2348.0      0.061958\n",
       "3072.0      0.061958\n",
       "12490.0     0.061958\n",
       "8020.0      0.061958\n",
       "17068.0     0.061958\n",
       "19272.0     0.061958\n",
       "18213.0     0.061958\n",
       "5577.0      0.061958\n",
       "2691.0      0.061958\n",
       "7403.0      0.061958\n",
       "8823.0      0.061958\n",
       "3579.0      0.061958\n",
       "17779.0     0.061958\n",
       "4968.0      0.061958\n",
       "5147.0      0.061958\n",
       "2718.0      0.061958\n",
       "2389.0      0.061958\n",
       "17584.0     0.061958\n",
       "5661.0      0.061958\n",
       "4869.0      0.061958\n",
       "4649.0      0.061958\n",
       "10496.0     0.061958\n",
       "2768.0      0.061958\n",
       "3408.0      0.061958\n",
       "3755.0      0.061958\n",
       "2187.0      0.061958\n",
       "4258.0      0.061958\n",
       "5326.0      0.061958\n",
       "5485.0      0.061958\n",
       "17639.0     0.061958\n",
       "6062.0      0.061958\n",
       "6288.0      0.061958\n",
       "4000.0      0.061958\n",
       "3815.0      0.061958\n",
       "4930.0      0.061958\n",
       "5265.0      0.061958\n",
       "2705.0      0.061958\n",
       "4448.0      0.061958\n",
       "2379.0      0.061958\n",
       "5487.0      0.061958\n",
       "2810.0      0.061958\n",
       "8938.0      0.061958\n",
       "9936.0      0.061958\n",
       "5454.0      0.061958\n",
       "18740.0     0.061958\n",
       "5473.0      0.061958\n",
       "13503.0     0.061958\n",
       "13549.0     0.061958\n",
       "18172.0     0.061958\n",
       "2774.0      0.061958\n",
       "9439.0      0.061958\n",
       "3424.0      0.061958\n",
       "4194.0      0.061958\n",
       "2532.0      0.061958\n",
       "5666.0      0.061958\n",
       "2226.0      0.061958\n",
       "5561.0      0.061958\n",
       "2897.0      0.061958\n",
       "5321.0      0.061958\n",
       "5410.0      0.061958\n",
       "4850.0      0.061958\n",
       "2001.0      0.061958\n",
       "4404.0      0.061958\n",
       "3944.0      0.061958\n",
       "2960.0      0.061958\n",
       "18947.0     0.061958\n",
       "6465.0      0.061958\n",
       "2683.0      0.061958\n",
       "2014.0      0.061958\n",
       "3441.0      0.061958\n",
       "4284.0      0.061958\n",
       "6513.0      0.061958\n",
       "4213.0      0.061958\n",
       "9204.0      0.061958\n",
       "13726.0     0.061958\n",
       "4107.0      0.061958\n",
       "3597.0      0.061958\n",
       "4115.0      0.061958\n",
       "19999.0     0.061958\n",
       "2517.0      0.061958\n",
       "4373.0      0.061958\n",
       "3377.0      0.061958\n",
       "2064.0      0.061958\n",
       "2430.0      0.061958\n",
       "4877.0      0.061958\n",
       "2013.0      0.061958\n",
       "2974.0      0.061958\n",
       "2766.0      0.061958\n",
       "3702.0      0.061958\n",
       "3989.0      0.061958\n",
       "5098.0      0.061958\n",
       "14411.0     0.061958\n",
       "8237.0      0.061958\n",
       "3211.0      0.061958\n",
       "16704.0     0.061958\n",
       "4774.0      0.061958\n",
       "4568.0      0.061958\n",
       "5993.0      0.061958\n",
       "6499.0      0.061958\n",
       "6397.0      0.061958\n",
       "2725.0      0.061958\n",
       "3622.0      0.061958\n",
       "6180.0      0.061958\n",
       "6274.0      0.061958\n",
       "4381.0      0.061958\n",
       "2559.0      0.061958\n",
       "5488.0      0.061958\n",
       "19586.0     0.061958\n",
       "6549.0      0.061958\n",
       "6842.0      0.061958\n",
       "4249.0      0.061958\n",
       "13570.0     0.061958\n",
       "6712.0      0.061958\n",
       "9991.0      0.061958\n",
       "10248.0     0.061958\n",
       "10938.0     0.061958\n",
       "2593.0      0.061958\n",
       "11878.0     0.061958\n",
       "8095.0      0.061958\n",
       "16856.0     0.061958\n",
       "4537.0      0.061958\n",
       "17924.0     0.061958\n",
       "4014.0      0.061958\n",
       "12742.0     0.061958\n",
       "3376.0      0.061958\n",
       "10482.0     0.061958\n",
       "2514.0      0.061958\n",
       "3196.0      0.061958\n",
       "4087.0      0.061958\n",
       "5368.0      0.061958\n",
       "17399.0     0.061958\n",
       "16885.0     0.061958\n",
       "4323.0      0.061958\n",
       "5155.0      0.061958\n",
       "2936.0      0.061958\n",
       "18789.0     0.061958\n",
       "4883.0      0.061958\n",
       "2029.0      0.061958\n",
       "2996.0      0.061958\n",
       "9278.0      0.061958\n",
       "4162.0      0.061958\n",
       "8853.0      0.061958\n",
       "4876.0      0.061958\n",
       "2141.0      0.061958\n",
       "3936.0      0.061958\n",
       "5204.0      0.061958\n",
       "2973.0      0.061958\n",
       "10761.0     0.061958\n",
       "6502.0      0.061958\n",
       "12936.0     0.061958\n",
       "4221.0      0.061958\n",
       "4963.0      0.061958\n",
       "4200.0      0.061958\n",
       "5006.0      0.061958\n",
       "7639.0      0.061958\n",
       "13525.0     0.061958\n",
       "6322.0      0.061958\n",
       "6349.0      0.061958\n",
       "6380.0      0.061958\n",
       "3102.0      0.061958\n",
       "4556.0      0.061958\n",
       "4230.0      0.061958\n",
       "4859.0      0.061958\n",
       "19431.0     0.061958\n",
       "Name: proportion, dtype: float64"
      ]
     },
     "metadata": {},
     "output_type": "display_data"
    },
    {
     "name": "stdout",
     "output_type": "stream",
     "text": [
      "........................\n",
      "La distribución de las categorías (incluyendo nulos) para la columna performance_rating\n"
     ]
    },
    {
     "data": {
      "application/vnd.microsoft.datawrangler.viewer.v0+json": {
       "columns": [
        {
         "name": "performance_rating",
         "rawType": "float64",
         "type": "float"
        },
        {
         "name": "proportion",
         "rawType": "float64",
         "type": "float"
        }
       ],
       "ref": "0a9f58a5-973b-407b-b617-7f7432e7021d",
       "rows": [
        [
         "3.0",
         "74.65923172242876"
        ],
        [
         "4.0",
         "13.258983890954152"
        ],
        [
         null,
         "12.0817843866171"
        ]
       ],
       "shape": {
        "columns": 1,
        "rows": 3
       }
      },
      "text/plain": [
       "performance_rating\n",
       "3.0    74.659232\n",
       "4.0    13.258984\n",
       "NaN    12.081784\n",
       "Name: proportion, dtype: float64"
      ]
     },
     "metadata": {},
     "output_type": "display_data"
    },
    {
     "name": "stdout",
     "output_type": "stream",
     "text": [
      "........................\n",
      "La distribución de las categorías (incluyendo nulos) para la columna total_working_years\n"
     ]
    },
    {
     "data": {
      "application/vnd.microsoft.datawrangler.viewer.v0+json": {
       "columns": [
        {
         "name": "total_working_years",
         "rawType": "float64",
         "type": "float"
        },
        {
         "name": "proportion",
         "rawType": "float64",
         "type": "float"
        }
       ],
       "ref": "99c34e92-5f19-4bf4-bc2d-a8d02806cc45",
       "rows": [
        [
         null,
         "32.58983890954151"
        ],
        [
         "10.0",
         "8.921933085501859"
        ],
        [
         "8.0",
         "5.328376703841388"
        ],
        [
         "6.0",
         "5.204460966542751"
        ],
        [
         "9.0",
         "4.275092936802974"
        ],
        [
         "5.0",
         "4.089219330855019"
        ],
        [
         "7.0",
         "3.469640644361834"
        ],
        [
         "4.0",
         "3.3457249070631967"
        ],
        [
         "1.0",
         "3.2837670384138784"
        ],
        [
         "12.0",
         "2.1065675340768277"
        ],
        [
         "3.0",
         "1.982651796778191"
        ],
        [
         "13.0",
         "1.858736059479554"
        ],
        [
         "14.0",
         "1.858736059479554"
        ],
        [
         "11.0",
         "1.7967781908302356"
        ],
        [
         "16.0",
         "1.734820322180917"
        ],
        [
         "15.0",
         "1.734820322180917"
        ],
        [
         "20.0",
         "1.734820322180917"
        ],
        [
         "18.0",
         "1.6728624535315983"
        ],
        [
         "21.0",
         "1.4250309789343247"
        ],
        [
         "17.0",
         "1.3630731102850062"
        ],
        [
         "2.0",
         "1.3011152416356877"
        ],
        [
         "22.0",
         "1.1152416356877324"
        ],
        [
         "19.0",
         "1.0532837670384139"
        ],
        [
         "24.0",
         "0.8674101610904585"
        ],
        [
         "23.0",
         "0.8054522924411399"
        ],
        [
         "28.0",
         "0.8054522924411399"
        ],
        [
         "0.0",
         "0.49566294919454773"
        ],
        [
         "26.0",
         "0.49566294919454773"
        ],
        [
         "36.0",
         "0.37174721189591076"
        ],
        [
         "29.0",
         "0.37174721189591076"
        ],
        [
         "25.0",
         "0.37174721189591076"
        ],
        [
         "33.0",
         "0.37174721189591076"
        ],
        [
         "37.0",
         "0.30978934324659235"
        ],
        [
         "27.0",
         "0.30978934324659235"
        ],
        [
         "31.0",
         "0.24783147459727387"
        ],
        [
         "35.0",
         "0.18587360594795538"
        ],
        [
         "32.0",
         "0.18587360594795538"
        ],
        [
         "30.0",
         "0.18587360594795538"
        ],
        [
         "40.0",
         "0.18587360594795538"
        ],
        [
         "34.0",
         "0.12391573729863693"
        ],
        [
         "38.0",
         "0.061957868649318466"
        ]
       ],
       "shape": {
        "columns": 1,
        "rows": 41
       }
      },
      "text/plain": [
       "total_working_years\n",
       "NaN     32.589839\n",
       "10.0     8.921933\n",
       "8.0      5.328377\n",
       "6.0      5.204461\n",
       "9.0      4.275093\n",
       "5.0      4.089219\n",
       "7.0      3.469641\n",
       "4.0      3.345725\n",
       "1.0      3.283767\n",
       "12.0     2.106568\n",
       "3.0      1.982652\n",
       "13.0     1.858736\n",
       "14.0     1.858736\n",
       "11.0     1.796778\n",
       "16.0     1.734820\n",
       "15.0     1.734820\n",
       "20.0     1.734820\n",
       "18.0     1.672862\n",
       "21.0     1.425031\n",
       "17.0     1.363073\n",
       "2.0      1.301115\n",
       "22.0     1.115242\n",
       "19.0     1.053284\n",
       "24.0     0.867410\n",
       "23.0     0.805452\n",
       "28.0     0.805452\n",
       "0.0      0.495663\n",
       "26.0     0.495663\n",
       "36.0     0.371747\n",
       "29.0     0.371747\n",
       "25.0     0.371747\n",
       "33.0     0.371747\n",
       "37.0     0.309789\n",
       "27.0     0.309789\n",
       "31.0     0.247831\n",
       "35.0     0.185874\n",
       "32.0     0.185874\n",
       "30.0     0.185874\n",
       "40.0     0.185874\n",
       "34.0     0.123916\n",
       "38.0     0.061958\n",
       "Name: proportion, dtype: float64"
      ]
     },
     "metadata": {},
     "output_type": "display_data"
    },
    {
     "name": "stdout",
     "output_type": "stream",
     "text": [
      "........................\n",
      "La distribución de las categorías (incluyendo nulos) para la columna worklife_balance\n"
     ]
    },
    {
     "data": {
      "application/vnd.microsoft.datawrangler.viewer.v0+json": {
       "columns": [
        {
         "name": "worklife_balance",
         "rawType": "float64",
         "type": "float"
        },
        {
         "name": "proportion",
         "rawType": "float64",
         "type": "float"
        }
       ],
       "ref": "12c3fd68-3f02-4699-a870-40348f0afa4d",
       "rows": [
        [
         "3.0",
         "56.567534076827755"
        ],
        [
         "2.0",
         "22.24287484510533"
        ],
        [
         "4.0",
         "9.603469640644361"
        ],
        [
         null,
         "6.691449814126393"
        ],
        [
         "1.0",
         "4.8946716232961585"
        ]
       ],
       "shape": {
        "columns": 1,
        "rows": 5
       }
      },
      "text/plain": [
       "worklife_balance\n",
       "3.0    56.567534\n",
       "2.0    22.242875\n",
       "4.0     9.603470\n",
       "NaN     6.691450\n",
       "1.0     4.894672\n",
       "Name: proportion, dtype: float64"
      ]
     },
     "metadata": {},
     "output_type": "display_data"
    },
    {
     "name": "stdout",
     "output_type": "stream",
     "text": [
      "........................\n"
     ]
    }
   ],
   "source": [
    "for col in nulos_esta_num:\n",
    "    print(f\"La distribución de las categorías (incluyendo nulos) para la columna\", col)\n",
    "    display(df[col].value_counts(dropna=False, normalize=True) * 100)  # Convertimos a porcentaje\n",
    "    print(\"........................\")"
   ]
  },
  {
   "cell_type": "code",
   "execution_count": 57,
   "id": "54da9a10",
   "metadata": {},
   "outputs": [
    {
     "name": "stdout",
     "output_type": "stream",
     "text": [
      "3.0\n"
     ]
    }
   ],
   "source": [
    "#Primero imputamos por la mediana para worklife_balance ya que el porcentage de nulos es bajo (por debajo del 10%)\n",
    "median_worklife_balance = df[\"worklife_balance\"].median()\n",
    "print(median_worklife_balance)\n",
    "\n",
    "df[\"worklife_balance\"] = df[\"worklife_balance\"].fillna(median_worklife_balance)"
   ]
  },
  {
   "cell_type": "code",
   "execution_count": null,
   "id": "c1b93c20",
   "metadata": {},
   "outputs": [],
   "source": [
    "# otra forma de hacerlo con el SimpleImputer\n",
    "\n",
    "#imputer = SimpleImputer(strategy='median')  # Aquí puedes elegir 'mean', 'median', 'mode\", etc.\n",
    "#df['worklife_balance'] = imputer.fit_transform(df[['worklife_balance']])"
   ]
  },
  {
   "cell_type": "code",
   "execution_count": 58,
   "id": "f6d8e6dd",
   "metadata": {},
   "outputs": [],
   "source": [
    "#Borramos la columna \"performance_rating\" ya que creemos que no aporta valor: \n",
    "\n",
    "df.drop(\"performance_rating\", axis=1, inplace=True)"
   ]
  },
  {
   "cell_type": "code",
   "execution_count": 59,
   "id": "35c39c60",
   "metadata": {},
   "outputs": [
    {
     "data": {
      "text/plain": [
       "Index(['monthly_income_$', 'total_working_years'], dtype='object')"
      ]
     },
     "execution_count": 59,
     "metadata": {},
     "output_type": "execute_result"
    }
   ],
   "source": [
    "columnas_number_con_nulos = df[df.columns[df.isnull().any()]].select_dtypes(include = \"number\").columns\n",
    "columnas_number_con_nulos"
   ]
  },
  {
   "cell_type": "code",
   "execution_count": 60,
   "id": "058ccdcb",
   "metadata": {},
   "outputs": [
    {
     "data": {
      "application/vnd.microsoft.datawrangler.viewer.v0+json": {
       "columns": [
        {
         "name": "index",
         "rawType": "int64",
         "type": "integer"
        },
        {
         "name": "age",
         "rawType": "int64",
         "type": "integer"
        },
        {
         "name": "attrition",
         "rawType": "object",
         "type": "string"
        },
        {
         "name": "business_travel",
         "rawType": "object",
         "type": "string"
        },
        {
         "name": "distance_from_home",
         "rawType": "int64",
         "type": "integer"
        },
        {
         "name": "education",
         "rawType": "int64",
         "type": "integer"
        },
        {
         "name": "education_field",
         "rawType": "object",
         "type": "string"
        },
        {
         "name": "environment_satisfaction",
         "rawType": "int64",
         "type": "integer"
        },
        {
         "name": "gender",
         "rawType": "object",
         "type": "string"
        },
        {
         "name": "job_involvement",
         "rawType": "int64",
         "type": "integer"
        },
        {
         "name": "job_level",
         "rawType": "int64",
         "type": "integer"
        },
        {
         "name": "job_role",
         "rawType": "object",
         "type": "string"
        },
        {
         "name": "job_satisfaction",
         "rawType": "int64",
         "type": "integer"
        },
        {
         "name": "marital_status",
         "rawType": "object",
         "type": "string"
        },
        {
         "name": "monthly_income_$",
         "rawType": "float64",
         "type": "float"
        },
        {
         "name": "num_companies_worked",
         "rawType": "int64",
         "type": "integer"
        },
        {
         "name": "over_time",
         "rawType": "object",
         "type": "string"
        },
        {
         "name": "percent_salary_hike",
         "rawType": "int64",
         "type": "integer"
        },
        {
         "name": "relationship_satisfaction",
         "rawType": "int64",
         "type": "integer"
        },
        {
         "name": "standard_hours",
         "rawType": "object",
         "type": "string"
        },
        {
         "name": "stock_option_level",
         "rawType": "int64",
         "type": "integer"
        },
        {
         "name": "total_working_years",
         "rawType": "float64",
         "type": "float"
        },
        {
         "name": "worklife_balance",
         "rawType": "float64",
         "type": "float"
        },
        {
         "name": "years_at_company",
         "rawType": "int64",
         "type": "integer"
        },
        {
         "name": "years_since_last_promotion",
         "rawType": "int64",
         "type": "integer"
        },
        {
         "name": "years_with_curr_manager",
         "rawType": "int64",
         "type": "integer"
        },
        {
         "name": "remote_work",
         "rawType": "object",
         "type": "string"
        }
       ],
       "ref": "c5c3409d-eac1-4e02-bb3b-4dc035a0d69d",
       "rows": [
        [
         "0",
         "51",
         "no",
         "non-travel",
         "6",
         "3",
         "unknown",
         "1",
         "M",
         "3",
         "5",
         " research director ",
         "3",
         "unknown",
         "19537.0",
         "7",
         "No",
         "13",
         "3",
         "full-time",
         "0",
         null,
         "3.0",
         "20",
         "15",
         "15",
         "yes"
        ]
       ],
       "shape": {
        "columns": 26,
        "rows": 1
       }
      },
      "text/html": [
       "<div>\n",
       "<style scoped>\n",
       "    .dataframe tbody tr th:only-of-type {\n",
       "        vertical-align: middle;\n",
       "    }\n",
       "\n",
       "    .dataframe tbody tr th {\n",
       "        vertical-align: top;\n",
       "    }\n",
       "\n",
       "    .dataframe thead th {\n",
       "        text-align: right;\n",
       "    }\n",
       "</style>\n",
       "<table border=\"1\" class=\"dataframe\">\n",
       "  <thead>\n",
       "    <tr style=\"text-align: right;\">\n",
       "      <th></th>\n",
       "      <th>age</th>\n",
       "      <th>attrition</th>\n",
       "      <th>business_travel</th>\n",
       "      <th>distance_from_home</th>\n",
       "      <th>education</th>\n",
       "      <th>education_field</th>\n",
       "      <th>environment_satisfaction</th>\n",
       "      <th>gender</th>\n",
       "      <th>job_involvement</th>\n",
       "      <th>job_level</th>\n",
       "      <th>job_role</th>\n",
       "      <th>job_satisfaction</th>\n",
       "      <th>marital_status</th>\n",
       "      <th>monthly_income_$</th>\n",
       "      <th>num_companies_worked</th>\n",
       "      <th>over_time</th>\n",
       "      <th>percent_salary_hike</th>\n",
       "      <th>relationship_satisfaction</th>\n",
       "      <th>standard_hours</th>\n",
       "      <th>stock_option_level</th>\n",
       "      <th>total_working_years</th>\n",
       "      <th>worklife_balance</th>\n",
       "      <th>years_at_company</th>\n",
       "      <th>years_since_last_promotion</th>\n",
       "      <th>years_with_curr_manager</th>\n",
       "      <th>remote_work</th>\n",
       "    </tr>\n",
       "  </thead>\n",
       "  <tbody>\n",
       "    <tr>\n",
       "      <th>0</th>\n",
       "      <td>51</td>\n",
       "      <td>no</td>\n",
       "      <td>non-travel</td>\n",
       "      <td>6</td>\n",
       "      <td>3</td>\n",
       "      <td>unknown</td>\n",
       "      <td>1</td>\n",
       "      <td>M</td>\n",
       "      <td>3</td>\n",
       "      <td>5</td>\n",
       "      <td>research director</td>\n",
       "      <td>3</td>\n",
       "      <td>unknown</td>\n",
       "      <td>19537.0</td>\n",
       "      <td>7</td>\n",
       "      <td>No</td>\n",
       "      <td>13</td>\n",
       "      <td>3</td>\n",
       "      <td>full-time</td>\n",
       "      <td>0</td>\n",
       "      <td>NaN</td>\n",
       "      <td>3.0</td>\n",
       "      <td>20</td>\n",
       "      <td>15</td>\n",
       "      <td>15</td>\n",
       "      <td>yes</td>\n",
       "    </tr>\n",
       "  </tbody>\n",
       "</table>\n",
       "</div>"
      ],
      "text/plain": [
       "   age attrition business_travel  distance_from_home  education  \\\n",
       "0   51        no      non-travel                   6          3   \n",
       "\n",
       "  education_field  environment_satisfaction gender  job_involvement  \\\n",
       "0         unknown                         1      M                3   \n",
       "\n",
       "   job_level             job_role  job_satisfaction marital_status  \\\n",
       "0          5   research director                  3        unknown   \n",
       "\n",
       "   monthly_income_$  num_companies_worked over_time  percent_salary_hike  \\\n",
       "0           19537.0                     7        No                   13   \n",
       "\n",
       "   relationship_satisfaction standard_hours  stock_option_level  \\\n",
       "0                          3      full-time                   0   \n",
       "\n",
       "   total_working_years  worklife_balance  years_at_company  \\\n",
       "0                  NaN               3.0                20   \n",
       "\n",
       "   years_since_last_promotion  years_with_curr_manager remote_work  \n",
       "0                          15                       15         yes  "
      ]
     },
     "execution_count": 60,
     "metadata": {},
     "output_type": "execute_result"
    }
   ],
   "source": [
    "# como vamos a crear columnas nuevas, vamos a hacer una copia del DataFrame usando el método 'copy()'\n",
    "df_copia = df.copy()\n",
    "df_copia.head(1)"
   ]
  },
  {
   "cell_type": "code",
   "execution_count": 61,
   "id": "97d406ae",
   "metadata": {},
   "outputs": [
    {
     "data": {
      "text/plain": [
       "array([[1.95370000e+04, 3.25871610e+01],\n",
       "       [1.99990000e+04, 3.40000000e+01],\n",
       "       [1.92320000e+04, 2.20000000e+01],\n",
       "       ...,\n",
       "       [5.12921955e+03, 9.00000000e+00],\n",
       "       [6.64128693e+03, 1.20000000e+01],\n",
       "       [1.08450000e+04, 1.86484620e+01]])"
      ]
     },
     "execution_count": 61,
     "metadata": {},
     "output_type": "execute_result"
    }
   ],
   "source": [
    "# hemos dicho que para las dos columnas restantes aplicaremos los dos métodos (KNN / Iterative) para luego compararlos, \n",
    "# empezaremos por el IterativeImputer\n",
    "\n",
    "# instanciamos las clases\n",
    "imputer_iterative = IterativeImputer(max_iter = 20, random_state = 42)\n",
    "# ajustamos y tranformamos los datos\n",
    "imputer_iterative_imputado = imputer_iterative.fit_transform(df_copia[[\"monthly_income_$\", \"total_working_years\"]])\n",
    "# comprobamos que es lo que nos devuelve, que en este caso es un array también\n",
    "imputer_iterative_imputado"
   ]
  },
  {
   "cell_type": "code",
   "execution_count": 62,
   "id": "d33d6ef3",
   "metadata": {},
   "outputs": [
    {
     "name": "stdout",
     "output_type": "stream",
     "text": [
      "Después del 'Iterative' tenemos: \n",
      "monthly_income_$_iterative       0\n",
      "total_working_years_iterative    0\n",
      "dtype: int64 nulos\n"
     ]
    }
   ],
   "source": [
    "# en este caso como vamos a aplicar los dos métodos sobre estas columnas vamos a crear dos columnas nuevas para comparar:\n",
    "df_copia[[\"monthly_income_$_iterative\", \"total_working_years_iterative\"]] = imputer_iterative_imputado\n",
    "# comprobamos los nulos\n",
    "print(f\"Después del 'Iterative' tenemos: \\n{df_copia[[\"monthly_income_$_iterative\", \"total_working_years_iterative\"]].isnull().sum()} nulos\")"
   ]
  },
  {
   "cell_type": "code",
   "execution_count": 63,
   "id": "6b52f32f",
   "metadata": {},
   "outputs": [
    {
     "data": {
      "application/vnd.microsoft.datawrangler.viewer.v0+json": {
       "columns": [
        {
         "name": "index",
         "rawType": "int64",
         "type": "integer"
        },
        {
         "name": "age",
         "rawType": "int64",
         "type": "integer"
        },
        {
         "name": "attrition",
         "rawType": "object",
         "type": "string"
        },
        {
         "name": "business_travel",
         "rawType": "object",
         "type": "string"
        },
        {
         "name": "distance_from_home",
         "rawType": "int64",
         "type": "integer"
        },
        {
         "name": "education",
         "rawType": "int64",
         "type": "integer"
        },
        {
         "name": "education_field",
         "rawType": "object",
         "type": "string"
        },
        {
         "name": "environment_satisfaction",
         "rawType": "int64",
         "type": "integer"
        },
        {
         "name": "gender",
         "rawType": "object",
         "type": "string"
        },
        {
         "name": "job_involvement",
         "rawType": "int64",
         "type": "integer"
        },
        {
         "name": "job_level",
         "rawType": "int64",
         "type": "integer"
        },
        {
         "name": "job_role",
         "rawType": "object",
         "type": "string"
        },
        {
         "name": "job_satisfaction",
         "rawType": "int64",
         "type": "integer"
        },
        {
         "name": "marital_status",
         "rawType": "object",
         "type": "string"
        },
        {
         "name": "monthly_income_$",
         "rawType": "float64",
         "type": "float"
        },
        {
         "name": "num_companies_worked",
         "rawType": "int64",
         "type": "integer"
        },
        {
         "name": "over_time",
         "rawType": "object",
         "type": "string"
        },
        {
         "name": "percent_salary_hike",
         "rawType": "int64",
         "type": "integer"
        },
        {
         "name": "relationship_satisfaction",
         "rawType": "int64",
         "type": "integer"
        },
        {
         "name": "standard_hours",
         "rawType": "object",
         "type": "string"
        },
        {
         "name": "stock_option_level",
         "rawType": "int64",
         "type": "integer"
        },
        {
         "name": "total_working_years",
         "rawType": "float64",
         "type": "float"
        },
        {
         "name": "worklife_balance",
         "rawType": "float64",
         "type": "float"
        },
        {
         "name": "years_at_company",
         "rawType": "int64",
         "type": "integer"
        },
        {
         "name": "years_since_last_promotion",
         "rawType": "int64",
         "type": "integer"
        },
        {
         "name": "years_with_curr_manager",
         "rawType": "int64",
         "type": "integer"
        },
        {
         "name": "remote_work",
         "rawType": "object",
         "type": "string"
        },
        {
         "name": "monthly_income_$_iterative",
         "rawType": "float64",
         "type": "float"
        },
        {
         "name": "total_working_years_iterative",
         "rawType": "float64",
         "type": "float"
        }
       ],
       "ref": "40b10d93-4204-4237-b91c-00b51f386025",
       "rows": [
        [
         "0",
         "51",
         "no",
         "non-travel",
         "6",
         "3",
         "unknown",
         "1",
         "M",
         "3",
         "5",
         " research director ",
         "3",
         "unknown",
         "19537.0",
         "7",
         "No",
         "13",
         "3",
         "full-time",
         "0",
         null,
         "3.0",
         "20",
         "15",
         "15",
         "yes",
         "19537.0",
         "32.58716098512397"
        ],
        [
         "1",
         "52",
         "no",
         "non-travel",
         "1",
         "4",
         "life sciences",
         "3",
         "M",
         "2",
         "5",
         " manager ",
         "3",
         "unknown",
         "19999.0",
         "0",
         "unknown",
         "14",
         "1",
         "full-time",
         "1",
         "34.0",
         "3.0",
         "33",
         "11",
         "9",
         "yes",
         "19999.0",
         "34.0"
        ],
        [
         "2",
         "42",
         "no",
         "travel_rarely",
         "4",
         "2",
         "technical degree",
         "3",
         "M",
         "3",
         "5",
         " manager ",
         "4",
         "married",
         "19232.0",
         "1",
         "No",
         "11",
         "4",
         "full-time",
         "0",
         "22.0",
         "3.0",
         "22",
         "11",
         "15",
         "yes",
         "19232.0",
         "22.0"
        ],
        [
         "3",
         "47",
         "no",
         "travel_rarely",
         "2",
         "4",
         "medical",
         "1",
         "F",
         "3",
         "4",
         " research director ",
         "3",
         "married",
         "17169.0",
         "3",
         "unknown",
         "19",
         "2",
         "full-time",
         "2",
         null,
         "3.0",
         "20",
         "5",
         "6",
         "no",
         "17169.0",
         "28.78977957669731"
        ],
        [
         "4",
         "46",
         "no",
         "non-travel",
         "3",
         "3",
         "technical degree",
         "1",
         "F",
         "4",
         "4",
         " sales executive ",
         "1",
         "divorced",
         null,
         "2",
         "No",
         "12",
         "4",
         "full-time",
         "1",
         null,
         "3.0",
         "19",
         "2",
         "8",
         "no",
         "6399.663530605465",
         "11.520609860209891"
        ]
       ],
       "shape": {
        "columns": 28,
        "rows": 5
       }
      },
      "text/html": [
       "<div>\n",
       "<style scoped>\n",
       "    .dataframe tbody tr th:only-of-type {\n",
       "        vertical-align: middle;\n",
       "    }\n",
       "\n",
       "    .dataframe tbody tr th {\n",
       "        vertical-align: top;\n",
       "    }\n",
       "\n",
       "    .dataframe thead th {\n",
       "        text-align: right;\n",
       "    }\n",
       "</style>\n",
       "<table border=\"1\" class=\"dataframe\">\n",
       "  <thead>\n",
       "    <tr style=\"text-align: right;\">\n",
       "      <th></th>\n",
       "      <th>age</th>\n",
       "      <th>attrition</th>\n",
       "      <th>business_travel</th>\n",
       "      <th>distance_from_home</th>\n",
       "      <th>education</th>\n",
       "      <th>education_field</th>\n",
       "      <th>environment_satisfaction</th>\n",
       "      <th>gender</th>\n",
       "      <th>job_involvement</th>\n",
       "      <th>job_level</th>\n",
       "      <th>job_role</th>\n",
       "      <th>job_satisfaction</th>\n",
       "      <th>marital_status</th>\n",
       "      <th>monthly_income_$</th>\n",
       "      <th>num_companies_worked</th>\n",
       "      <th>over_time</th>\n",
       "      <th>percent_salary_hike</th>\n",
       "      <th>relationship_satisfaction</th>\n",
       "      <th>standard_hours</th>\n",
       "      <th>stock_option_level</th>\n",
       "      <th>total_working_years</th>\n",
       "      <th>worklife_balance</th>\n",
       "      <th>years_at_company</th>\n",
       "      <th>years_since_last_promotion</th>\n",
       "      <th>years_with_curr_manager</th>\n",
       "      <th>remote_work</th>\n",
       "      <th>monthly_income_$_iterative</th>\n",
       "      <th>total_working_years_iterative</th>\n",
       "    </tr>\n",
       "  </thead>\n",
       "  <tbody>\n",
       "    <tr>\n",
       "      <th>0</th>\n",
       "      <td>51</td>\n",
       "      <td>no</td>\n",
       "      <td>non-travel</td>\n",
       "      <td>6</td>\n",
       "      <td>3</td>\n",
       "      <td>unknown</td>\n",
       "      <td>1</td>\n",
       "      <td>M</td>\n",
       "      <td>3</td>\n",
       "      <td>5</td>\n",
       "      <td>research director</td>\n",
       "      <td>3</td>\n",
       "      <td>unknown</td>\n",
       "      <td>19537.0</td>\n",
       "      <td>7</td>\n",
       "      <td>No</td>\n",
       "      <td>13</td>\n",
       "      <td>3</td>\n",
       "      <td>full-time</td>\n",
       "      <td>0</td>\n",
       "      <td>NaN</td>\n",
       "      <td>3.0</td>\n",
       "      <td>20</td>\n",
       "      <td>15</td>\n",
       "      <td>15</td>\n",
       "      <td>yes</td>\n",
       "      <td>19537.000000</td>\n",
       "      <td>32.587161</td>\n",
       "    </tr>\n",
       "    <tr>\n",
       "      <th>1</th>\n",
       "      <td>52</td>\n",
       "      <td>no</td>\n",
       "      <td>non-travel</td>\n",
       "      <td>1</td>\n",
       "      <td>4</td>\n",
       "      <td>life sciences</td>\n",
       "      <td>3</td>\n",
       "      <td>M</td>\n",
       "      <td>2</td>\n",
       "      <td>5</td>\n",
       "      <td>manager</td>\n",
       "      <td>3</td>\n",
       "      <td>unknown</td>\n",
       "      <td>19999.0</td>\n",
       "      <td>0</td>\n",
       "      <td>unknown</td>\n",
       "      <td>14</td>\n",
       "      <td>1</td>\n",
       "      <td>full-time</td>\n",
       "      <td>1</td>\n",
       "      <td>34.0</td>\n",
       "      <td>3.0</td>\n",
       "      <td>33</td>\n",
       "      <td>11</td>\n",
       "      <td>9</td>\n",
       "      <td>yes</td>\n",
       "      <td>19999.000000</td>\n",
       "      <td>34.000000</td>\n",
       "    </tr>\n",
       "    <tr>\n",
       "      <th>2</th>\n",
       "      <td>42</td>\n",
       "      <td>no</td>\n",
       "      <td>travel_rarely</td>\n",
       "      <td>4</td>\n",
       "      <td>2</td>\n",
       "      <td>technical degree</td>\n",
       "      <td>3</td>\n",
       "      <td>M</td>\n",
       "      <td>3</td>\n",
       "      <td>5</td>\n",
       "      <td>manager</td>\n",
       "      <td>4</td>\n",
       "      <td>married</td>\n",
       "      <td>19232.0</td>\n",
       "      <td>1</td>\n",
       "      <td>No</td>\n",
       "      <td>11</td>\n",
       "      <td>4</td>\n",
       "      <td>full-time</td>\n",
       "      <td>0</td>\n",
       "      <td>22.0</td>\n",
       "      <td>3.0</td>\n",
       "      <td>22</td>\n",
       "      <td>11</td>\n",
       "      <td>15</td>\n",
       "      <td>yes</td>\n",
       "      <td>19232.000000</td>\n",
       "      <td>22.000000</td>\n",
       "    </tr>\n",
       "    <tr>\n",
       "      <th>3</th>\n",
       "      <td>47</td>\n",
       "      <td>no</td>\n",
       "      <td>travel_rarely</td>\n",
       "      <td>2</td>\n",
       "      <td>4</td>\n",
       "      <td>medical</td>\n",
       "      <td>1</td>\n",
       "      <td>F</td>\n",
       "      <td>3</td>\n",
       "      <td>4</td>\n",
       "      <td>research director</td>\n",
       "      <td>3</td>\n",
       "      <td>married</td>\n",
       "      <td>17169.0</td>\n",
       "      <td>3</td>\n",
       "      <td>unknown</td>\n",
       "      <td>19</td>\n",
       "      <td>2</td>\n",
       "      <td>full-time</td>\n",
       "      <td>2</td>\n",
       "      <td>NaN</td>\n",
       "      <td>3.0</td>\n",
       "      <td>20</td>\n",
       "      <td>5</td>\n",
       "      <td>6</td>\n",
       "      <td>no</td>\n",
       "      <td>17169.000000</td>\n",
       "      <td>28.789780</td>\n",
       "    </tr>\n",
       "    <tr>\n",
       "      <th>4</th>\n",
       "      <td>46</td>\n",
       "      <td>no</td>\n",
       "      <td>non-travel</td>\n",
       "      <td>3</td>\n",
       "      <td>3</td>\n",
       "      <td>technical degree</td>\n",
       "      <td>1</td>\n",
       "      <td>F</td>\n",
       "      <td>4</td>\n",
       "      <td>4</td>\n",
       "      <td>sales executive</td>\n",
       "      <td>1</td>\n",
       "      <td>divorced</td>\n",
       "      <td>NaN</td>\n",
       "      <td>2</td>\n",
       "      <td>No</td>\n",
       "      <td>12</td>\n",
       "      <td>4</td>\n",
       "      <td>full-time</td>\n",
       "      <td>1</td>\n",
       "      <td>NaN</td>\n",
       "      <td>3.0</td>\n",
       "      <td>19</td>\n",
       "      <td>2</td>\n",
       "      <td>8</td>\n",
       "      <td>no</td>\n",
       "      <td>6399.663531</td>\n",
       "      <td>11.520610</td>\n",
       "    </tr>\n",
       "  </tbody>\n",
       "</table>\n",
       "</div>"
      ],
      "text/plain": [
       "   age attrition business_travel  distance_from_home  education  \\\n",
       "0   51        no      non-travel                   6          3   \n",
       "1   52        no      non-travel                   1          4   \n",
       "2   42        no   travel_rarely                   4          2   \n",
       "3   47        no   travel_rarely                   2          4   \n",
       "4   46        no      non-travel                   3          3   \n",
       "\n",
       "    education_field  environment_satisfaction gender  job_involvement  \\\n",
       "0           unknown                         1      M                3   \n",
       "1     life sciences                         3      M                2   \n",
       "2  technical degree                         3      M                3   \n",
       "3           medical                         1      F                3   \n",
       "4  technical degree                         1      F                4   \n",
       "\n",
       "   job_level             job_role  job_satisfaction marital_status  \\\n",
       "0          5   research director                  3        unknown   \n",
       "1          5             manager                  3        unknown   \n",
       "2          5             manager                  4        married   \n",
       "3          4   research director                  3        married   \n",
       "4          4     sales executive                  1       divorced   \n",
       "\n",
       "   monthly_income_$  num_companies_worked over_time  percent_salary_hike  \\\n",
       "0           19537.0                     7        No                   13   \n",
       "1           19999.0                     0   unknown                   14   \n",
       "2           19232.0                     1        No                   11   \n",
       "3           17169.0                     3   unknown                   19   \n",
       "4               NaN                     2        No                   12   \n",
       "\n",
       "   relationship_satisfaction standard_hours  stock_option_level  \\\n",
       "0                          3      full-time                   0   \n",
       "1                          1      full-time                   1   \n",
       "2                          4      full-time                   0   \n",
       "3                          2      full-time                   2   \n",
       "4                          4      full-time                   1   \n",
       "\n",
       "   total_working_years  worklife_balance  years_at_company  \\\n",
       "0                  NaN               3.0                20   \n",
       "1                 34.0               3.0                33   \n",
       "2                 22.0               3.0                22   \n",
       "3                  NaN               3.0                20   \n",
       "4                  NaN               3.0                19   \n",
       "\n",
       "   years_since_last_promotion  years_with_curr_manager remote_work  \\\n",
       "0                          15                       15         yes   \n",
       "1                          11                        9         yes   \n",
       "2                          11                       15         yes   \n",
       "3                           5                        6          no   \n",
       "4                           2                        8          no   \n",
       "\n",
       "   monthly_income_$_iterative  total_working_years_iterative  \n",
       "0                19537.000000                      32.587161  \n",
       "1                19999.000000                      34.000000  \n",
       "2                19232.000000                      22.000000  \n",
       "3                17169.000000                      28.789780  \n",
       "4                 6399.663531                      11.520610  "
      ]
     },
     "execution_count": 63,
     "metadata": {},
     "output_type": "execute_result"
    }
   ],
   "source": [
    "df_copia.head()"
   ]
  },
  {
   "cell_type": "code",
   "execution_count": 64,
   "id": "82c40c82",
   "metadata": {},
   "outputs": [
    {
     "data": {
      "text/plain": [
       "array([[1.9537e+04, 3.0000e+01],\n",
       "       [1.9999e+04, 3.4000e+01],\n",
       "       [1.9232e+04, 2.2000e+01],\n",
       "       ...,\n",
       "       [7.0506e+03, 9.0000e+00],\n",
       "       [5.2886e+03, 1.2000e+01],\n",
       "       [1.0845e+04, 1.7000e+01]])"
      ]
     },
     "execution_count": 64,
     "metadata": {},
     "output_type": "execute_result"
    }
   ],
   "source": [
    "# instanciamos la clase del KNNImputer\n",
    "imputer_knn = KNNImputer(n_neighbors = 5)\n",
    "# ajustamos y transformamos los datos\n",
    "imputer_knn_imputado = imputer_knn.fit_transform(df_copia[[\"monthly_income_$\", \"total_working_years\"]])\n",
    "# comprobamos que es lo que nos devuelve, que sigue siendo un array\n",
    "imputer_knn_imputado"
   ]
  },
  {
   "cell_type": "code",
   "execution_count": 65,
   "id": "2b59ef10",
   "metadata": {},
   "outputs": [
    {
     "name": "stdout",
     "output_type": "stream",
     "text": [
      "Después del 'KNN' tenemos: \n",
      "monthly_income_$_knn       0\n",
      "total_working_years_knn    0\n",
      "dtype: int64 nulos\n"
     ]
    }
   ],
   "source": [
    "# por último nos queda añadir ese array al DataFrame como hemos hecho hasta ahora\n",
    "df_copia[[\"monthly_income_$_knn\", \"total_working_years_knn\"]] = imputer_knn_imputado\n",
    "\n",
    "# comprobamos los nulos\n",
    "print(f\"Después del 'KNN' tenemos: \\n{df_copia[[\"monthly_income_$_knn\", \"total_working_years_knn\"]].isnull().sum()} nulos\")"
   ]
  },
  {
   "cell_type": "code",
   "execution_count": 66,
   "id": "069c6675",
   "metadata": {},
   "outputs": [
    {
     "data": {
      "application/vnd.microsoft.datawrangler.viewer.v0+json": {
       "columns": [
        {
         "name": "index",
         "rawType": "object",
         "type": "string"
        },
        {
         "name": "monthly_income_$",
         "rawType": "float64",
         "type": "float"
        },
        {
         "name": "monthly_income_$_iterative",
         "rawType": "float64",
         "type": "float"
        },
        {
         "name": "monthly_income_$_knn",
         "rawType": "float64",
         "type": "float"
        },
        {
         "name": "total_working_years",
         "rawType": "float64",
         "type": "float"
        },
        {
         "name": "total_working_years_iterative",
         "rawType": "float64",
         "type": "float"
        },
        {
         "name": "total_working_years_knn",
         "rawType": "float64",
         "type": "float"
        }
       ],
       "ref": "fcf71858-d589-4dab-9ce3-4acf49a75cbc",
       "rows": [
        [
         "count",
         "771.0",
         "1614.0",
         "1614.0",
         "1088.0",
         "1614.0",
         "1614.0"
        ],
        [
         "mean",
         "6477.686121919585",
         "6399.663530605466",
         "6455.726815783424",
         "11.318933823529411",
         "11.520609860209891",
         "11.508224451490634"
        ],
        [
         "std",
         "4766.119958875518",
         "3991.8559669679557",
         "4057.303191943894",
         "7.727674610643302",
         "7.119934366811766",
         "6.957940117991645"
        ],
        [
         "min",
         "1009.0",
         "593.0174276298922",
         "1009.0",
         "0.0",
         "0.0",
         "0.0"
        ],
        [
         "25%",
         "2880.0",
         "3617.152177491016",
         "3641.6",
         "6.0",
         "7.0",
         "7.0"
        ],
        [
         "50%",
         "4859.0",
         "5633.242010731766",
         "5986.5",
         "10.0",
         "10.0",
         "10.6"
        ],
        [
         "75%",
         "8230.5",
         "6908.75",
         "7284.6",
         "15.0",
         "13.0",
         "13.0"
        ],
        [
         "max",
         "19999.0",
         "20753.915760037387",
         "19999.0",
         "40.0",
         "40.0",
         "40.0"
        ]
       ],
       "shape": {
        "columns": 6,
        "rows": 8
       }
      },
      "text/html": [
       "<div>\n",
       "<style scoped>\n",
       "    .dataframe tbody tr th:only-of-type {\n",
       "        vertical-align: middle;\n",
       "    }\n",
       "\n",
       "    .dataframe tbody tr th {\n",
       "        vertical-align: top;\n",
       "    }\n",
       "\n",
       "    .dataframe thead th {\n",
       "        text-align: right;\n",
       "    }\n",
       "</style>\n",
       "<table border=\"1\" class=\"dataframe\">\n",
       "  <thead>\n",
       "    <tr style=\"text-align: right;\">\n",
       "      <th></th>\n",
       "      <th>monthly_income_$</th>\n",
       "      <th>monthly_income_$_iterative</th>\n",
       "      <th>monthly_income_$_knn</th>\n",
       "      <th>total_working_years</th>\n",
       "      <th>total_working_years_iterative</th>\n",
       "      <th>total_working_years_knn</th>\n",
       "    </tr>\n",
       "  </thead>\n",
       "  <tbody>\n",
       "    <tr>\n",
       "      <th>count</th>\n",
       "      <td>771.000000</td>\n",
       "      <td>1614.000000</td>\n",
       "      <td>1614.000000</td>\n",
       "      <td>1088.000000</td>\n",
       "      <td>1614.000000</td>\n",
       "      <td>1614.000000</td>\n",
       "    </tr>\n",
       "    <tr>\n",
       "      <th>mean</th>\n",
       "      <td>6477.686122</td>\n",
       "      <td>6399.663531</td>\n",
       "      <td>6455.726816</td>\n",
       "      <td>11.318934</td>\n",
       "      <td>11.520610</td>\n",
       "      <td>11.508224</td>\n",
       "    </tr>\n",
       "    <tr>\n",
       "      <th>std</th>\n",
       "      <td>4766.119959</td>\n",
       "      <td>3991.855967</td>\n",
       "      <td>4057.303192</td>\n",
       "      <td>7.727675</td>\n",
       "      <td>7.119934</td>\n",
       "      <td>6.957940</td>\n",
       "    </tr>\n",
       "    <tr>\n",
       "      <th>min</th>\n",
       "      <td>1009.000000</td>\n",
       "      <td>593.017428</td>\n",
       "      <td>1009.000000</td>\n",
       "      <td>0.000000</td>\n",
       "      <td>0.000000</td>\n",
       "      <td>0.000000</td>\n",
       "    </tr>\n",
       "    <tr>\n",
       "      <th>25%</th>\n",
       "      <td>2880.000000</td>\n",
       "      <td>3617.152177</td>\n",
       "      <td>3641.600000</td>\n",
       "      <td>6.000000</td>\n",
       "      <td>7.000000</td>\n",
       "      <td>7.000000</td>\n",
       "    </tr>\n",
       "    <tr>\n",
       "      <th>50%</th>\n",
       "      <td>4859.000000</td>\n",
       "      <td>5633.242011</td>\n",
       "      <td>5986.500000</td>\n",
       "      <td>10.000000</td>\n",
       "      <td>10.000000</td>\n",
       "      <td>10.600000</td>\n",
       "    </tr>\n",
       "    <tr>\n",
       "      <th>75%</th>\n",
       "      <td>8230.500000</td>\n",
       "      <td>6908.750000</td>\n",
       "      <td>7284.600000</td>\n",
       "      <td>15.000000</td>\n",
       "      <td>13.000000</td>\n",
       "      <td>13.000000</td>\n",
       "    </tr>\n",
       "    <tr>\n",
       "      <th>max</th>\n",
       "      <td>19999.000000</td>\n",
       "      <td>20753.915760</td>\n",
       "      <td>19999.000000</td>\n",
       "      <td>40.000000</td>\n",
       "      <td>40.000000</td>\n",
       "      <td>40.000000</td>\n",
       "    </tr>\n",
       "  </tbody>\n",
       "</table>\n",
       "</div>"
      ],
      "text/plain": [
       "       monthly_income_$  monthly_income_$_iterative  monthly_income_$_knn  \\\n",
       "count        771.000000                 1614.000000           1614.000000   \n",
       "mean        6477.686122                 6399.663531           6455.726816   \n",
       "std         4766.119959                 3991.855967           4057.303192   \n",
       "min         1009.000000                  593.017428           1009.000000   \n",
       "25%         2880.000000                 3617.152177           3641.600000   \n",
       "50%         4859.000000                 5633.242011           5986.500000   \n",
       "75%         8230.500000                 6908.750000           7284.600000   \n",
       "max        19999.000000                20753.915760          19999.000000   \n",
       "\n",
       "       total_working_years  total_working_years_iterative  \\\n",
       "count          1088.000000                    1614.000000   \n",
       "mean             11.318934                      11.520610   \n",
       "std               7.727675                       7.119934   \n",
       "min               0.000000                       0.000000   \n",
       "25%               6.000000                       7.000000   \n",
       "50%              10.000000                      10.000000   \n",
       "75%              15.000000                      13.000000   \n",
       "max              40.000000                      40.000000   \n",
       "\n",
       "       total_working_years_knn  \n",
       "count              1614.000000  \n",
       "mean                 11.508224  \n",
       "std                   6.957940  \n",
       "min                   0.000000  \n",
       "25%                   7.000000  \n",
       "50%                  10.600000  \n",
       "75%                  13.000000  \n",
       "max                  40.000000  "
      ]
     },
     "execution_count": 66,
     "metadata": {},
     "output_type": "execute_result"
    }
   ],
   "source": [
    "df_copia.describe()[[\"monthly_income_$\", \"monthly_income_$_iterative\", \"monthly_income_$_knn\",\"total_working_years\", \"total_working_years_iterative\", \"total_working_years_knn\"]]"
   ]
  },
  {
   "cell_type": "code",
   "execution_count": 67,
   "id": "453540e7",
   "metadata": {},
   "outputs": [],
   "source": [
    "# Eliminamos las columnas que no nos interesan después de decidir que nos quedamos con el metodo ITERATIVE:\n",
    "df_copia.drop([\"monthly_income_$\", \"monthly_income_$_knn\",\"total_working_years\", \"total_working_years_knn\"], axis = 1, inplace = True)\n",
    "\n",
    "#Cambiamos el nombre de las que SI nos hemos quedado:\n",
    "nuevo_nombre = {\"monthly_income_$_iterative\": \"monthly_income_$\",  'total_working_years_iterative': \"total_working_years\" }\n",
    "df_copia.rename(columns = nuevo_nombre, inplace = True)"
   ]
  },
  {
   "cell_type": "code",
   "execution_count": 68,
   "id": "69769ed4",
   "metadata": {},
   "outputs": [
    {
     "data": {
      "application/vnd.microsoft.datawrangler.viewer.v0+json": {
       "columns": [
        {
         "name": "index",
         "rawType": "int64",
         "type": "integer"
        },
        {
         "name": "age",
         "rawType": "int64",
         "type": "integer"
        },
        {
         "name": "attrition",
         "rawType": "object",
         "type": "string"
        },
        {
         "name": "business_travel",
         "rawType": "object",
         "type": "string"
        },
        {
         "name": "distance_from_home",
         "rawType": "int64",
         "type": "integer"
        },
        {
         "name": "education",
         "rawType": "int64",
         "type": "integer"
        },
        {
         "name": "education_field",
         "rawType": "object",
         "type": "string"
        },
        {
         "name": "environment_satisfaction",
         "rawType": "int64",
         "type": "integer"
        },
        {
         "name": "gender",
         "rawType": "object",
         "type": "string"
        },
        {
         "name": "job_involvement",
         "rawType": "int64",
         "type": "integer"
        },
        {
         "name": "job_level",
         "rawType": "int64",
         "type": "integer"
        },
        {
         "name": "job_role",
         "rawType": "object",
         "type": "string"
        },
        {
         "name": "job_satisfaction",
         "rawType": "int64",
         "type": "integer"
        },
        {
         "name": "marital_status",
         "rawType": "object",
         "type": "string"
        },
        {
         "name": "num_companies_worked",
         "rawType": "int64",
         "type": "integer"
        },
        {
         "name": "over_time",
         "rawType": "object",
         "type": "string"
        },
        {
         "name": "percent_salary_hike",
         "rawType": "int64",
         "type": "integer"
        },
        {
         "name": "relationship_satisfaction",
         "rawType": "int64",
         "type": "integer"
        },
        {
         "name": "standard_hours",
         "rawType": "object",
         "type": "string"
        },
        {
         "name": "stock_option_level",
         "rawType": "int64",
         "type": "integer"
        },
        {
         "name": "worklife_balance",
         "rawType": "float64",
         "type": "float"
        },
        {
         "name": "years_at_company",
         "rawType": "int64",
         "type": "integer"
        },
        {
         "name": "years_since_last_promotion",
         "rawType": "int64",
         "type": "integer"
        },
        {
         "name": "years_with_curr_manager",
         "rawType": "int64",
         "type": "integer"
        },
        {
         "name": "remote_work",
         "rawType": "object",
         "type": "string"
        },
        {
         "name": "monthly_income_$",
         "rawType": "float64",
         "type": "float"
        },
        {
         "name": "total_working_years",
         "rawType": "float64",
         "type": "float"
        }
       ],
       "ref": "f3f13ae2-60c0-4337-b56b-b14d6cb3340a",
       "rows": [
        [
         "0",
         "51",
         "no",
         "non-travel",
         "6",
         "3",
         "unknown",
         "1",
         "M",
         "3",
         "5",
         " research director ",
         "3",
         "unknown",
         "7",
         "No",
         "13",
         "3",
         "full-time",
         "0",
         "3.0",
         "20",
         "15",
         "15",
         "yes",
         "19537.0",
         "32.58716098512397"
        ],
        [
         "1",
         "52",
         "no",
         "non-travel",
         "1",
         "4",
         "life sciences",
         "3",
         "M",
         "2",
         "5",
         " manager ",
         "3",
         "unknown",
         "0",
         "unknown",
         "14",
         "1",
         "full-time",
         "1",
         "3.0",
         "33",
         "11",
         "9",
         "yes",
         "19999.0",
         "34.0"
        ],
        [
         "2",
         "42",
         "no",
         "travel_rarely",
         "4",
         "2",
         "technical degree",
         "3",
         "M",
         "3",
         "5",
         " manager ",
         "4",
         "married",
         "1",
         "No",
         "11",
         "4",
         "full-time",
         "0",
         "3.0",
         "22",
         "11",
         "15",
         "yes",
         "19232.0",
         "22.0"
        ],
        [
         "3",
         "47",
         "no",
         "travel_rarely",
         "2",
         "4",
         "medical",
         "1",
         "F",
         "3",
         "4",
         " research director ",
         "3",
         "married",
         "3",
         "unknown",
         "19",
         "2",
         "full-time",
         "2",
         "3.0",
         "20",
         "5",
         "6",
         "no",
         "17169.0",
         "28.78977957669731"
        ],
        [
         "4",
         "46",
         "no",
         "non-travel",
         "3",
         "3",
         "technical degree",
         "1",
         "F",
         "4",
         "4",
         " sales executive ",
         "1",
         "divorced",
         "2",
         "No",
         "12",
         "4",
         "full-time",
         "1",
         "3.0",
         "19",
         "2",
         "8",
         "no",
         "6399.663530605465",
         "11.520609860209891"
        ]
       ],
       "shape": {
        "columns": 26,
        "rows": 5
       }
      },
      "text/html": [
       "<div>\n",
       "<style scoped>\n",
       "    .dataframe tbody tr th:only-of-type {\n",
       "        vertical-align: middle;\n",
       "    }\n",
       "\n",
       "    .dataframe tbody tr th {\n",
       "        vertical-align: top;\n",
       "    }\n",
       "\n",
       "    .dataframe thead th {\n",
       "        text-align: right;\n",
       "    }\n",
       "</style>\n",
       "<table border=\"1\" class=\"dataframe\">\n",
       "  <thead>\n",
       "    <tr style=\"text-align: right;\">\n",
       "      <th></th>\n",
       "      <th>age</th>\n",
       "      <th>attrition</th>\n",
       "      <th>business_travel</th>\n",
       "      <th>distance_from_home</th>\n",
       "      <th>education</th>\n",
       "      <th>education_field</th>\n",
       "      <th>environment_satisfaction</th>\n",
       "      <th>gender</th>\n",
       "      <th>job_involvement</th>\n",
       "      <th>job_level</th>\n",
       "      <th>job_role</th>\n",
       "      <th>job_satisfaction</th>\n",
       "      <th>marital_status</th>\n",
       "      <th>num_companies_worked</th>\n",
       "      <th>over_time</th>\n",
       "      <th>percent_salary_hike</th>\n",
       "      <th>relationship_satisfaction</th>\n",
       "      <th>standard_hours</th>\n",
       "      <th>stock_option_level</th>\n",
       "      <th>worklife_balance</th>\n",
       "      <th>years_at_company</th>\n",
       "      <th>years_since_last_promotion</th>\n",
       "      <th>years_with_curr_manager</th>\n",
       "      <th>remote_work</th>\n",
       "      <th>monthly_income_$</th>\n",
       "      <th>total_working_years</th>\n",
       "    </tr>\n",
       "  </thead>\n",
       "  <tbody>\n",
       "    <tr>\n",
       "      <th>0</th>\n",
       "      <td>51</td>\n",
       "      <td>no</td>\n",
       "      <td>non-travel</td>\n",
       "      <td>6</td>\n",
       "      <td>3</td>\n",
       "      <td>unknown</td>\n",
       "      <td>1</td>\n",
       "      <td>M</td>\n",
       "      <td>3</td>\n",
       "      <td>5</td>\n",
       "      <td>research director</td>\n",
       "      <td>3</td>\n",
       "      <td>unknown</td>\n",
       "      <td>7</td>\n",
       "      <td>No</td>\n",
       "      <td>13</td>\n",
       "      <td>3</td>\n",
       "      <td>full-time</td>\n",
       "      <td>0</td>\n",
       "      <td>3.0</td>\n",
       "      <td>20</td>\n",
       "      <td>15</td>\n",
       "      <td>15</td>\n",
       "      <td>yes</td>\n",
       "      <td>19537.000000</td>\n",
       "      <td>32.587161</td>\n",
       "    </tr>\n",
       "    <tr>\n",
       "      <th>1</th>\n",
       "      <td>52</td>\n",
       "      <td>no</td>\n",
       "      <td>non-travel</td>\n",
       "      <td>1</td>\n",
       "      <td>4</td>\n",
       "      <td>life sciences</td>\n",
       "      <td>3</td>\n",
       "      <td>M</td>\n",
       "      <td>2</td>\n",
       "      <td>5</td>\n",
       "      <td>manager</td>\n",
       "      <td>3</td>\n",
       "      <td>unknown</td>\n",
       "      <td>0</td>\n",
       "      <td>unknown</td>\n",
       "      <td>14</td>\n",
       "      <td>1</td>\n",
       "      <td>full-time</td>\n",
       "      <td>1</td>\n",
       "      <td>3.0</td>\n",
       "      <td>33</td>\n",
       "      <td>11</td>\n",
       "      <td>9</td>\n",
       "      <td>yes</td>\n",
       "      <td>19999.000000</td>\n",
       "      <td>34.000000</td>\n",
       "    </tr>\n",
       "    <tr>\n",
       "      <th>2</th>\n",
       "      <td>42</td>\n",
       "      <td>no</td>\n",
       "      <td>travel_rarely</td>\n",
       "      <td>4</td>\n",
       "      <td>2</td>\n",
       "      <td>technical degree</td>\n",
       "      <td>3</td>\n",
       "      <td>M</td>\n",
       "      <td>3</td>\n",
       "      <td>5</td>\n",
       "      <td>manager</td>\n",
       "      <td>4</td>\n",
       "      <td>married</td>\n",
       "      <td>1</td>\n",
       "      <td>No</td>\n",
       "      <td>11</td>\n",
       "      <td>4</td>\n",
       "      <td>full-time</td>\n",
       "      <td>0</td>\n",
       "      <td>3.0</td>\n",
       "      <td>22</td>\n",
       "      <td>11</td>\n",
       "      <td>15</td>\n",
       "      <td>yes</td>\n",
       "      <td>19232.000000</td>\n",
       "      <td>22.000000</td>\n",
       "    </tr>\n",
       "    <tr>\n",
       "      <th>3</th>\n",
       "      <td>47</td>\n",
       "      <td>no</td>\n",
       "      <td>travel_rarely</td>\n",
       "      <td>2</td>\n",
       "      <td>4</td>\n",
       "      <td>medical</td>\n",
       "      <td>1</td>\n",
       "      <td>F</td>\n",
       "      <td>3</td>\n",
       "      <td>4</td>\n",
       "      <td>research director</td>\n",
       "      <td>3</td>\n",
       "      <td>married</td>\n",
       "      <td>3</td>\n",
       "      <td>unknown</td>\n",
       "      <td>19</td>\n",
       "      <td>2</td>\n",
       "      <td>full-time</td>\n",
       "      <td>2</td>\n",
       "      <td>3.0</td>\n",
       "      <td>20</td>\n",
       "      <td>5</td>\n",
       "      <td>6</td>\n",
       "      <td>no</td>\n",
       "      <td>17169.000000</td>\n",
       "      <td>28.789780</td>\n",
       "    </tr>\n",
       "    <tr>\n",
       "      <th>4</th>\n",
       "      <td>46</td>\n",
       "      <td>no</td>\n",
       "      <td>non-travel</td>\n",
       "      <td>3</td>\n",
       "      <td>3</td>\n",
       "      <td>technical degree</td>\n",
       "      <td>1</td>\n",
       "      <td>F</td>\n",
       "      <td>4</td>\n",
       "      <td>4</td>\n",
       "      <td>sales executive</td>\n",
       "      <td>1</td>\n",
       "      <td>divorced</td>\n",
       "      <td>2</td>\n",
       "      <td>No</td>\n",
       "      <td>12</td>\n",
       "      <td>4</td>\n",
       "      <td>full-time</td>\n",
       "      <td>1</td>\n",
       "      <td>3.0</td>\n",
       "      <td>19</td>\n",
       "      <td>2</td>\n",
       "      <td>8</td>\n",
       "      <td>no</td>\n",
       "      <td>6399.663531</td>\n",
       "      <td>11.520610</td>\n",
       "    </tr>\n",
       "  </tbody>\n",
       "</table>\n",
       "</div>"
      ],
      "text/plain": [
       "   age attrition business_travel  distance_from_home  education  \\\n",
       "0   51        no      non-travel                   6          3   \n",
       "1   52        no      non-travel                   1          4   \n",
       "2   42        no   travel_rarely                   4          2   \n",
       "3   47        no   travel_rarely                   2          4   \n",
       "4   46        no      non-travel                   3          3   \n",
       "\n",
       "    education_field  environment_satisfaction gender  job_involvement  \\\n",
       "0           unknown                         1      M                3   \n",
       "1     life sciences                         3      M                2   \n",
       "2  technical degree                         3      M                3   \n",
       "3           medical                         1      F                3   \n",
       "4  technical degree                         1      F                4   \n",
       "\n",
       "   job_level             job_role  job_satisfaction marital_status  \\\n",
       "0          5   research director                  3        unknown   \n",
       "1          5             manager                  3        unknown   \n",
       "2          5             manager                  4        married   \n",
       "3          4   research director                  3        married   \n",
       "4          4     sales executive                  1       divorced   \n",
       "\n",
       "   num_companies_worked over_time  percent_salary_hike  \\\n",
       "0                     7        No                   13   \n",
       "1                     0   unknown                   14   \n",
       "2                     1        No                   11   \n",
       "3                     3   unknown                   19   \n",
       "4                     2        No                   12   \n",
       "\n",
       "   relationship_satisfaction standard_hours  stock_option_level  \\\n",
       "0                          3      full-time                   0   \n",
       "1                          1      full-time                   1   \n",
       "2                          4      full-time                   0   \n",
       "3                          2      full-time                   2   \n",
       "4                          4      full-time                   1   \n",
       "\n",
       "   worklife_balance  years_at_company  years_since_last_promotion  \\\n",
       "0               3.0                20                          15   \n",
       "1               3.0                33                          11   \n",
       "2               3.0                22                          11   \n",
       "3               3.0                20                           5   \n",
       "4               3.0                19                           2   \n",
       "\n",
       "   years_with_curr_manager remote_work  monthly_income_$  total_working_years  \n",
       "0                       15         yes      19537.000000            32.587161  \n",
       "1                        9         yes      19999.000000            34.000000  \n",
       "2                       15         yes      19232.000000            22.000000  \n",
       "3                        6          no      17169.000000            28.789780  \n",
       "4                        8          no       6399.663531            11.520610  "
      ]
     },
     "execution_count": 68,
     "metadata": {},
     "output_type": "execute_result"
    }
   ],
   "source": [
    "df_copia.head()"
   ]
  },
  {
   "cell_type": "code",
   "execution_count": 69,
   "id": "cd552d49",
   "metadata": {},
   "outputs": [
    {
     "data": {
      "application/vnd.microsoft.datawrangler.viewer.v0+json": {
       "columns": [
        {
         "name": "index",
         "rawType": "object",
         "type": "string"
        },
        {
         "name": "0",
         "rawType": "int64",
         "type": "integer"
        }
       ],
       "ref": "33329480-0647-4ccc-b2c9-5e4cf27d6c00",
       "rows": [
        [
         "age",
         "0"
        ],
        [
         "attrition",
         "0"
        ],
        [
         "business_travel",
         "0"
        ],
        [
         "distance_from_home",
         "0"
        ],
        [
         "education",
         "0"
        ],
        [
         "education_field",
         "0"
        ],
        [
         "environment_satisfaction",
         "0"
        ],
        [
         "gender",
         "0"
        ],
        [
         "job_involvement",
         "0"
        ],
        [
         "job_level",
         "0"
        ],
        [
         "job_role",
         "0"
        ],
        [
         "job_satisfaction",
         "0"
        ],
        [
         "marital_status",
         "0"
        ],
        [
         "num_companies_worked",
         "0"
        ],
        [
         "over_time",
         "0"
        ],
        [
         "percent_salary_hike",
         "0"
        ],
        [
         "relationship_satisfaction",
         "0"
        ],
        [
         "standard_hours",
         "0"
        ],
        [
         "stock_option_level",
         "0"
        ],
        [
         "worklife_balance",
         "0"
        ],
        [
         "years_at_company",
         "0"
        ],
        [
         "years_since_last_promotion",
         "0"
        ],
        [
         "years_with_curr_manager",
         "0"
        ],
        [
         "remote_work",
         "0"
        ],
        [
         "monthly_income_$",
         "0"
        ],
        [
         "total_working_years",
         "0"
        ]
       ],
       "shape": {
        "columns": 1,
        "rows": 26
       }
      },
      "text/plain": [
       "age                           0\n",
       "attrition                     0\n",
       "business_travel               0\n",
       "distance_from_home            0\n",
       "education                     0\n",
       "education_field               0\n",
       "environment_satisfaction      0\n",
       "gender                        0\n",
       "job_involvement               0\n",
       "job_level                     0\n",
       "job_role                      0\n",
       "job_satisfaction              0\n",
       "marital_status                0\n",
       "num_companies_worked          0\n",
       "over_time                     0\n",
       "percent_salary_hike           0\n",
       "relationship_satisfaction     0\n",
       "standard_hours                0\n",
       "stock_option_level            0\n",
       "worklife_balance              0\n",
       "years_at_company              0\n",
       "years_since_last_promotion    0\n",
       "years_with_curr_manager       0\n",
       "remote_work                   0\n",
       "monthly_income_$              0\n",
       "total_working_years           0\n",
       "dtype: int64"
      ]
     },
     "execution_count": 69,
     "metadata": {},
     "output_type": "execute_result"
    }
   ],
   "source": [
    "df_copia.isnull().sum()"
   ]
  },
  {
   "cell_type": "code",
   "execution_count": 70,
   "id": "eeb803d0",
   "metadata": {},
   "outputs": [],
   "source": [
    "# Guardamos la copia de nuestro DF en la variable df:\n",
    "df = df_copia"
   ]
  },
  {
   "cell_type": "code",
   "execution_count": 71,
   "id": "7dd519b8",
   "metadata": {},
   "outputs": [
    {
     "data": {
      "application/vnd.microsoft.datawrangler.viewer.v0+json": {
       "columns": [
        {
         "name": "index",
         "rawType": "object",
         "type": "string"
        },
        {
         "name": "0",
         "rawType": "int64",
         "type": "integer"
        }
       ],
       "ref": "67b16449-08f9-4591-8a1a-0ea07ce5323b",
       "rows": [
        [
         "age",
         "0"
        ],
        [
         "attrition",
         "0"
        ],
        [
         "business_travel",
         "0"
        ],
        [
         "distance_from_home",
         "0"
        ],
        [
         "education",
         "0"
        ],
        [
         "education_field",
         "0"
        ],
        [
         "environment_satisfaction",
         "0"
        ],
        [
         "gender",
         "0"
        ],
        [
         "job_involvement",
         "0"
        ],
        [
         "job_level",
         "0"
        ],
        [
         "job_role",
         "0"
        ],
        [
         "job_satisfaction",
         "0"
        ],
        [
         "marital_status",
         "0"
        ],
        [
         "num_companies_worked",
         "0"
        ],
        [
         "over_time",
         "0"
        ],
        [
         "percent_salary_hike",
         "0"
        ],
        [
         "relationship_satisfaction",
         "0"
        ],
        [
         "standard_hours",
         "0"
        ],
        [
         "stock_option_level",
         "0"
        ],
        [
         "worklife_balance",
         "0"
        ],
        [
         "years_at_company",
         "0"
        ],
        [
         "years_since_last_promotion",
         "0"
        ],
        [
         "years_with_curr_manager",
         "0"
        ],
        [
         "remote_work",
         "0"
        ],
        [
         "monthly_income_$",
         "0"
        ],
        [
         "total_working_years",
         "0"
        ]
       ],
       "shape": {
        "columns": 1,
        "rows": 26
       }
      },
      "text/plain": [
       "age                           0\n",
       "attrition                     0\n",
       "business_travel               0\n",
       "distance_from_home            0\n",
       "education                     0\n",
       "education_field               0\n",
       "environment_satisfaction      0\n",
       "gender                        0\n",
       "job_involvement               0\n",
       "job_level                     0\n",
       "job_role                      0\n",
       "job_satisfaction              0\n",
       "marital_status                0\n",
       "num_companies_worked          0\n",
       "over_time                     0\n",
       "percent_salary_hike           0\n",
       "relationship_satisfaction     0\n",
       "standard_hours                0\n",
       "stock_option_level            0\n",
       "worklife_balance              0\n",
       "years_at_company              0\n",
       "years_since_last_promotion    0\n",
       "years_with_curr_manager       0\n",
       "remote_work                   0\n",
       "monthly_income_$              0\n",
       "total_working_years           0\n",
       "dtype: int64"
      ]
     },
     "execution_count": 71,
     "metadata": {},
     "output_type": "execute_result"
    }
   ],
   "source": [
    "#Comprobamos que no haya nulos:\n",
    "df.isnull().sum()"
   ]
  },
  {
   "cell_type": "markdown",
   "id": "59a637c2",
   "metadata": {},
   "source": [
    "## Cambiamos el tipo de dato en las columnas necesarias"
   ]
  },
  {
   "cell_type": "code",
   "execution_count": 72,
   "id": "a52394af",
   "metadata": {},
   "outputs": [
    {
     "name": "stdout",
     "output_type": "stream",
     "text": [
      "<class 'pandas.core.frame.DataFrame'>\n",
      "Index: 1614 entries, 0 to 1613\n",
      "Data columns (total 26 columns):\n",
      " #   Column                      Non-Null Count  Dtype  \n",
      "---  ------                      --------------  -----  \n",
      " 0   age                         1614 non-null   int64  \n",
      " 1   attrition                   1614 non-null   object \n",
      " 2   business_travel             1614 non-null   object \n",
      " 3   distance_from_home          1614 non-null   int64  \n",
      " 4   education                   1614 non-null   int64  \n",
      " 5   education_field             1614 non-null   object \n",
      " 6   environment_satisfaction    1614 non-null   int64  \n",
      " 7   gender                      1614 non-null   object \n",
      " 8   job_involvement             1614 non-null   int64  \n",
      " 9   job_level                   1614 non-null   int64  \n",
      " 10  job_role                    1614 non-null   object \n",
      " 11  job_satisfaction            1614 non-null   int64  \n",
      " 12  marital_status              1614 non-null   object \n",
      " 13  num_companies_worked        1614 non-null   int64  \n",
      " 14  over_time                   1614 non-null   object \n",
      " 15  percent_salary_hike         1614 non-null   int64  \n",
      " 16  relationship_satisfaction   1614 non-null   int64  \n",
      " 17  standard_hours              1614 non-null   object \n",
      " 18  stock_option_level          1614 non-null   int64  \n",
      " 19  worklife_balance            1614 non-null   float64\n",
      " 20  years_at_company            1614 non-null   int64  \n",
      " 21  years_since_last_promotion  1614 non-null   int64  \n",
      " 22  years_with_curr_manager     1614 non-null   int64  \n",
      " 23  remote_work                 1614 non-null   object \n",
      " 24  monthly_income_$            1614 non-null   float64\n",
      " 25  total_working_years         1614 non-null   float64\n",
      "dtypes: float64(3), int64(14), object(9)\n",
      "memory usage: 340.5+ KB\n"
     ]
    }
   ],
   "source": [
    "#Comprobamos el tipo de dato de cada columna\n",
    "df.info()"
   ]
  },
  {
   "cell_type": "code",
   "execution_count": 73,
   "id": "1f88fef4",
   "metadata": {},
   "outputs": [],
   "source": [
    "#CCorregimos el tipo de dato de las columnas que lo necesitan, en este caso de float a INT.\n",
    "df[[\"worklife_balance\",\"monthly_income_$\", \"total_working_years\"]] = df[[\"worklife_balance\",\"monthly_income_$\", \"total_working_years\"]].astype(int)"
   ]
  },
  {
   "cell_type": "code",
   "execution_count": 74,
   "id": "02849856",
   "metadata": {},
   "outputs": [
    {
     "name": "stdout",
     "output_type": "stream",
     "text": [
      "<class 'pandas.core.frame.DataFrame'>\n",
      "Index: 1614 entries, 0 to 1613\n",
      "Data columns (total 26 columns):\n",
      " #   Column                      Non-Null Count  Dtype \n",
      "---  ------                      --------------  ----- \n",
      " 0   age                         1614 non-null   int64 \n",
      " 1   attrition                   1614 non-null   object\n",
      " 2   business_travel             1614 non-null   object\n",
      " 3   distance_from_home          1614 non-null   int64 \n",
      " 4   education                   1614 non-null   int64 \n",
      " 5   education_field             1614 non-null   object\n",
      " 6   environment_satisfaction    1614 non-null   int64 \n",
      " 7   gender                      1614 non-null   object\n",
      " 8   job_involvement             1614 non-null   int64 \n",
      " 9   job_level                   1614 non-null   int64 \n",
      " 10  job_role                    1614 non-null   object\n",
      " 11  job_satisfaction            1614 non-null   int64 \n",
      " 12  marital_status              1614 non-null   object\n",
      " 13  num_companies_worked        1614 non-null   int64 \n",
      " 14  over_time                   1614 non-null   object\n",
      " 15  percent_salary_hike         1614 non-null   int64 \n",
      " 16  relationship_satisfaction   1614 non-null   int64 \n",
      " 17  standard_hours              1614 non-null   object\n",
      " 18  stock_option_level          1614 non-null   int64 \n",
      " 19  worklife_balance            1614 non-null   int32 \n",
      " 20  years_at_company            1614 non-null   int64 \n",
      " 21  years_since_last_promotion  1614 non-null   int64 \n",
      " 22  years_with_curr_manager     1614 non-null   int64 \n",
      " 23  remote_work                 1614 non-null   object\n",
      " 24  monthly_income_$            1614 non-null   int32 \n",
      " 25  total_working_years         1614 non-null   int32 \n",
      "dtypes: int32(3), int64(14), object(9)\n",
      "memory usage: 321.5+ KB\n"
     ]
    }
   ],
   "source": [
    "#Comprobamos que se han modificado correctamente:\n",
    "df.info()"
   ]
  },
  {
   "cell_type": "code",
   "execution_count": 75,
   "id": "fd9b28d2",
   "metadata": {},
   "outputs": [],
   "source": [
    "# Guardamos el DataFrame sobreescribiendo el anterior, con este trabajaremos \n",
    "df.to_csv(\"3_HR_DATA_nulos.csv\",index=False)"
   ]
  }
 ],
 "metadata": {
  "kernelspec": {
   "display_name": "base",
   "language": "python",
   "name": "python3"
  },
  "language_info": {
   "codemirror_mode": {
    "name": "ipython",
    "version": 3
   },
   "file_extension": ".py",
   "mimetype": "text/x-python",
   "name": "python",
   "nbconvert_exporter": "python",
   "pygments_lexer": "ipython3",
   "version": "3.12.7"
  }
 },
 "nbformat": 4,
 "nbformat_minor": 5
}
